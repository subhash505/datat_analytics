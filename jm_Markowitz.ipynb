{
  "nbformat": 4,
  "nbformat_minor": 0,
  "metadata": {
    "colab": {
      "name": "jm-Markowitz.ipynb",
      "provenance": [],
      "collapsed_sections": [],
      "include_colab_link": true
    },
    "kernelspec": {
      "name": "python3",
      "display_name": "Python 3"
    }
  },
  "cells": [
    {
      "cell_type": "markdown",
      "metadata": {
        "id": "view-in-github",
        "colab_type": "text"
      },
      "source": [
        "<a href=\"https://colab.research.google.com/github/subhash505/datat_analytics/blob/main/jm_Markowitz.ipynb\" target=\"_parent\"><img src=\"https://colab.research.google.com/assets/colab-badge.svg\" alt=\"Open In Colab\"/></a>"
      ]
    },
    {
      "cell_type": "code",
      "metadata": {
        "id": "srDeEOtOTW-G"
      },
      "source": [
        "import numpy as np\n",
        "import pandas as pd\n",
        "import matplotlib.pyplot as plt"
      ],
      "execution_count": null,
      "outputs": []
    },
    {
      "cell_type": "markdown",
      "metadata": {
        "id": "x6Bwb7trslce"
      },
      "source": [
        "Assume the weight steps of 10%:"
      ]
    },
    {
      "cell_type": "code",
      "metadata": {
        "id": "vOrn16sKThDo"
      },
      "source": [
        "ExpectedReturn = [9.00,9.20,9.40,9.60,9.80,10.00,10.20,10.40,10.60,10.80,11.00]\n",
        "StandardDeviation = [8.0,7.5,7.1,6.9,6.8,7.0,7.3,7.8,8.5,9.2,10.0]"
      ],
      "execution_count": null,
      "outputs": []
    },
    {
      "cell_type": "code",
      "metadata": {
        "colab": {
          "base_uri": "https://localhost:8080/",
          "height": 295
        },
        "id": "dNT2Wz7JTjgI",
        "outputId": "f5fbd335-07b6-4e5a-b595-90a687c443a6"
      },
      "source": [
        "plt.scatter(StandardDeviation, ExpectedReturn)\n",
        "plt.xlabel(\"Standard deviation (in %)\")\n",
        "plt.ylabel(\"Expected return (in %)\")\n",
        "plt.title(\"Markowitz Portfolio Analysis\")\n",
        "plt.show()"
      ],
      "execution_count": null,
      "outputs": [
        {
          "output_type": "display_data",
          "data": {
            "image/png": "[encoded data removed]",
            "text/plain": [
              "<Figure size 432x288 with 1 Axes>"
            ]
          },
          "metadata": {
            "tags": [],
            "needs_background": "light"
          }
        }
      ]
    },
    {
      "cell_type": "markdown",
      "metadata": {
        "id": "FSyL1ksasWt9"
      },
      "source": [
        ""
      ]
    },
    {
      "cell_type": "code",
      "metadata": {
        "colab": {
          "base_uri": "https://localhost:8080/",
          "height": 509
        },
        "id": "SfToiViLjeQU",
        "outputId": "2c1d9f34-be03-4e68-a68a-ef7c86119801"
      },
      "source": [
        "pip install --upgrade pandas-datareader"
      ],
      "execution_count": null,
      "outputs": [
        {
          "output_type": "stream",
          "text": [
            "Requirement already satisfied: pandas-datareader in /usr/local/lib/python3.7/dist-packages (0.9.0)\n",
            "Collecting pandas-datareader\n",
            "  Downloading pandas_datareader-0.10.0-py3-none-any.whl (109 kB)\n",
            "\u001b[K     |████████████████████████████████| 109 kB 8.7 MB/s \n",
            "\u001b[?25hRequirement already satisfied: requests>=2.19.0 in /usr/local/lib/python3.7/dist-packages (from pandas-datareader) (2.23.0)\n",
            "Requirement already satisfied: pandas>=0.23 in /usr/local/lib/python3.7/dist-packages (from pandas-datareader) (1.1.5)\n",
            "Requirement already satisfied: lxml in /usr/local/lib/python3.7/dist-packages (from pandas-datareader) (4.2.6)\n",
            "Requirement already satisfied: python-dateutil>=2.7.3 in /usr/local/lib/python3.7/dist-packages (from pandas>=0.23->pandas-datareader) (2.8.1)\n",
            "Requirement already satisfied: pytz>=2017.2 in /usr/local/lib/python3.7/dist-packages (from pandas>=0.23->pandas-datareader) (2018.9)\n",
            "Requirement already satisfied: numpy>=1.15.4 in /usr/local/lib/python3.7/dist-packages (from pandas>=0.23->pandas-datareader) (1.19.5)\n",
            "Requirement already satisfied: six>=1.5 in /usr/local/lib/python3.7/dist-packages (from python-dateutil>=2.7.3->pandas>=0.23->pandas-datareader) (1.15.0)\n",
            "Requirement already satisfied: urllib3!=1.25.0,!=1.25.1,<1.26,>=1.21.1 in /usr/local/lib/python3.7/dist-packages (from requests>=2.19.0->pandas-datareader) (1.24.3)\n",
            "Requirement already satisfied: certifi>=2017.4.17 in /usr/local/lib/python3.7/dist-packages (from requests>=2.19.0->pandas-datareader) (2021.5.30)\n",
            "Requirement already satisfied: idna<3,>=2.5 in /usr/local/lib/python3.7/dist-packages (from requests>=2.19.0->pandas-datareader) (2.10)\n",
            "Requirement already satisfied: chardet<4,>=3.0.2 in /usr/local/lib/python3.7/dist-packages (from requests>=2.19.0->pandas-datareader) (3.0.4)\n",
            "Installing collected packages: pandas-datareader\n",
            "  Attempting uninstall: pandas-datareader\n",
            "    Found existing installation: pandas-datareader 0.9.0\n",
            "    Uninstalling pandas-datareader-0.9.0:\n",
            "      Successfully uninstalled pandas-datareader-0.9.0\n",
            "Successfully installed pandas-datareader-0.10.0\n"
          ],
          "name": "stdout"
        },
        {
          "output_type": "display_data",
          "data": {
            "application/vnd.colab-display-data+json": {
              "pip_warning": {
                "packages": [
                  "pandas_datareader"
                ]
              }
            }
          },
          "metadata": {
            "tags": []
          }
        }
      ]
    },
    {
      "cell_type": "code",
      "metadata": {
        "id": "g9vYF0esTwnI"
      },
      "source": [
        "\n",
        "from pandas_datareader import data as dr\n"
      ],
      "execution_count": null,
      "outputs": []
    },
    {
      "cell_type": "code",
      "metadata": {
        "id": "EO6m6_eFTyuI"
      },
      "source": [
        "stocks = ['PG', 'MSFT']"
      ],
      "execution_count": null,
      "outputs": []
    },
    {
      "cell_type": "code",
      "metadata": {
        "id": "YL0w9IWET1Po"
      },
      "source": [
        "stock_data = pd.DataFrame()\n",
        "for s in stocks:\n",
        "    stock_data[s] = dr.DataReader(s, data_source = 'yahoo', start = '2009-12-31',end='2020-04-09')['Adj Close']"
      ],
      "execution_count": null,
      "outputs": []
    },
    {
      "cell_type": "code",
      "metadata": {
        "colab": {
          "base_uri": "https://localhost:8080/",
          "height": 237
        },
        "id": "IT-sqq9WT4t_",
        "outputId": "74a43e85-fa22-47c9-916f-7aecc58b3af6"
      },
      "source": [
        "stock_data.head()"
      ],
      "execution_count": null,
      "outputs": [
        {
          "output_type": "execute_result",
          "data": {
            "text/html": [
              "<div>\n",
              "<style scoped>\n",
              "    .dataframe tbody tr th:only-of-type {\n",
              "        vertical-align: middle;\n",
              "    }\n",
              "\n",
              "    .dataframe tbody tr th {\n",
              "        vertical-align: top;\n",
              "    }\n",
              "\n",
              "    .dataframe thead th {\n",
              "        text-align: right;\n",
              "    }\n",
              "</style>\n",
              "<table border=\"1\" class=\"dataframe\">\n",
              "  <thead>\n",
              "    <tr style=\"text-align: right;\">\n",
              "      <th></th>\n",
              "      <th>PG</th>\n",
              "      <th>MSFT</th>\n",
              "    </tr>\n",
              "    <tr>\n",
              "      <th>Date</th>\n",
              "      <th></th>\n",
              "      <th></th>\n",
              "    </tr>\n",
              "  </thead>\n",
              "  <tbody>\n",
              "    <tr>\n",
              "      <th>2009-12-31</th>\n",
              "      <td>42.389099</td>\n",
              "      <td>23.630186</td>\n",
              "    </tr>\n",
              "    <tr>\n",
              "      <th>2010-01-04</th>\n",
              "      <td>42.731663</td>\n",
              "      <td>23.994564</td>\n",
              "    </tr>\n",
              "    <tr>\n",
              "      <th>2010-01-05</th>\n",
              "      <td>42.745663</td>\n",
              "      <td>24.002319</td>\n",
              "    </tr>\n",
              "    <tr>\n",
              "      <th>2010-01-06</th>\n",
              "      <td>42.542900</td>\n",
              "      <td>23.855013</td>\n",
              "    </tr>\n",
              "    <tr>\n",
              "      <th>2010-01-07</th>\n",
              "      <td>42.312191</td>\n",
              "      <td>23.606922</td>\n",
              "    </tr>\n",
              "  </tbody>\n",
              "</table>\n",
              "</div>"
            ],
            "text/plain": [
              "                   PG       MSFT\n",
              "Date                            \n",
              "2009-12-31  42.389099  23.630186\n",
              "2010-01-04  42.731663  23.994564\n",
              "2010-01-05  42.745663  24.002319\n",
              "2010-01-06  42.542900  23.855013\n",
              "2010-01-07  42.312191  23.606922"
            ]
          },
          "metadata": {
            "tags": []
          },
          "execution_count": 7
        }
      ]
    },
    {
      "cell_type": "code",
      "metadata": {
        "colab": {
          "base_uri": "https://localhost:8080/",
          "height": 237
        },
        "id": "6tLMUVDkT63n",
        "outputId": "5826546a-ed07-46d6-a2bd-543ce600f785"
      },
      "source": [
        "stock_data.tail()"
      ],
      "execution_count": null,
      "outputs": [
        {
          "output_type": "execute_result",
          "data": {
            "text/html": [
              "<div>\n",
              "<style scoped>\n",
              "    .dataframe tbody tr th:only-of-type {\n",
              "        vertical-align: middle;\n",
              "    }\n",
              "\n",
              "    .dataframe tbody tr th {\n",
              "        vertical-align: top;\n",
              "    }\n",
              "\n",
              "    .dataframe thead th {\n",
              "        text-align: right;\n",
              "    }\n",
              "</style>\n",
              "<table border=\"1\" class=\"dataframe\">\n",
              "  <thead>\n",
              "    <tr style=\"text-align: right;\">\n",
              "      <th></th>\n",
              "      <th>PG</th>\n",
              "      <th>MSFT</th>\n",
              "    </tr>\n",
              "    <tr>\n",
              "      <th>Date</th>\n",
              "      <th></th>\n",
              "      <th></th>\n",
              "    </tr>\n",
              "  </thead>\n",
              "  <tbody>\n",
              "    <tr>\n",
              "      <th>2020-04-03</th>\n",
              "      <td>110.884827</td>\n",
              "      <td>151.931671</td>\n",
              "    </tr>\n",
              "    <tr>\n",
              "      <th>2020-04-06</th>\n",
              "      <td>113.515297</td>\n",
              "      <td>163.230530</td>\n",
              "    </tr>\n",
              "    <tr>\n",
              "      <th>2020-04-07</th>\n",
              "      <td>108.659035</td>\n",
              "      <td>161.472458</td>\n",
              "    </tr>\n",
              "    <tr>\n",
              "      <th>2020-04-08</th>\n",
              "      <td>110.904099</td>\n",
              "      <td>163.092239</td>\n",
              "    </tr>\n",
              "    <tr>\n",
              "      <th>2020-04-09</th>\n",
              "      <td>110.480141</td>\n",
              "      <td>163.102097</td>\n",
              "    </tr>\n",
              "  </tbody>\n",
              "</table>\n",
              "</div>"
            ],
            "text/plain": [
              "                    PG        MSFT\n",
              "Date                              \n",
              "2020-04-03  110.884827  151.931671\n",
              "2020-04-06  113.515297  163.230530\n",
              "2020-04-07  108.659035  161.472458\n",
              "2020-04-08  110.904099  163.092239\n",
              "2020-04-09  110.480141  163.102097"
            ]
          },
          "metadata": {
            "tags": []
          },
          "execution_count": 8
        }
      ]
    },
    {
      "cell_type": "code",
      "metadata": {
        "colab": {
          "base_uri": "https://localhost:8080/",
          "height": 483
        },
        "id": "MHJwy-UcT9Z_",
        "outputId": "663783eb-84dc-4f9c-8039-15da4b693fbb"
      },
      "source": [
        "(stock_data/stock_data.iloc[0] * 100).plot(figsize = (10,8))"
      ],
      "execution_count": null,
      "outputs": [
        {
          "output_type": "execute_result",
          "data": {
            "text/plain": [
              "<matplotlib.axes._subplots.AxesSubplot at 0x7f2d43f229d0>"
            ]
          },
          "metadata": {
            "tags": []
          },
          "execution_count": 19
        },
        {
          "output_type": "display_data",
          "data": {
            "image/png": "[encoded data removed]",
            "text/plain": [
              "<Figure size 720x576 with 1 Axes>"
            ]
          },
          "metadata": {
            "tags": [],
            "needs_background": "light"
          }
        }
      ]
    },
    {
      "cell_type": "code",
      "metadata": {
        "colab": {
          "base_uri": "https://localhost:8080/",
          "height": 455
        },
        "id": "ABO8ZZpkUAS_",
        "outputId": "ff7e74d5-3326-4eed-a34c-6a9146342db2"
      },
      "source": [
        "logReturns = np.log(stock_data/stock_data.shift(1))\n",
        "logReturns"
      ],
      "execution_count": null,
      "outputs": [
        {
          "output_type": "execute_result",
          "data": {
            "text/html": [
              "<div>\n",
              "<style scoped>\n",
              "    .dataframe tbody tr th:only-of-type {\n",
              "        vertical-align: middle;\n",
              "    }\n",
              "\n",
              "    .dataframe tbody tr th {\n",
              "        vertical-align: top;\n",
              "    }\n",
              "\n",
              "    .dataframe thead th {\n",
              "        text-align: right;\n",
              "    }\n",
              "</style>\n",
              "<table border=\"1\" class=\"dataframe\">\n",
              "  <thead>\n",
              "    <tr style=\"text-align: right;\">\n",
              "      <th></th>\n",
              "      <th>PG</th>\n",
              "      <th>MSFT</th>\n",
              "    </tr>\n",
              "    <tr>\n",
              "      <th>Date</th>\n",
              "      <th></th>\n",
              "      <th></th>\n",
              "    </tr>\n",
              "  </thead>\n",
              "  <tbody>\n",
              "    <tr>\n",
              "      <th>2009-12-31</th>\n",
              "      <td>NaN</td>\n",
              "      <td>NaN</td>\n",
              "    </tr>\n",
              "    <tr>\n",
              "      <th>2010-01-04</th>\n",
              "      <td>0.008049</td>\n",
              "      <td>0.015302</td>\n",
              "    </tr>\n",
              "    <tr>\n",
              "      <th>2010-01-05</th>\n",
              "      <td>0.000328</td>\n",
              "      <td>0.000323</td>\n",
              "    </tr>\n",
              "    <tr>\n",
              "      <th>2010-01-06</th>\n",
              "      <td>-0.004755</td>\n",
              "      <td>-0.006156</td>\n",
              "    </tr>\n",
              "    <tr>\n",
              "      <th>2010-01-07</th>\n",
              "      <td>-0.005438</td>\n",
              "      <td>-0.010454</td>\n",
              "    </tr>\n",
              "    <tr>\n",
              "      <th>...</th>\n",
              "      <td>...</td>\n",
              "      <td>...</td>\n",
              "    </tr>\n",
              "    <tr>\n",
              "      <th>2020-04-03</th>\n",
              "      <td>0.005926</td>\n",
              "      <td>-0.009253</td>\n",
              "    </tr>\n",
              "    <tr>\n",
              "      <th>2020-04-06</th>\n",
              "      <td>0.023446</td>\n",
              "      <td>0.071733</td>\n",
              "    </tr>\n",
              "    <tr>\n",
              "      <th>2020-04-07</th>\n",
              "      <td>-0.043723</td>\n",
              "      <td>-0.010829</td>\n",
              "    </tr>\n",
              "    <tr>\n",
              "      <th>2020-04-08</th>\n",
              "      <td>0.020451</td>\n",
              "      <td>0.009981</td>\n",
              "    </tr>\n",
              "    <tr>\n",
              "      <th>2020-04-09</th>\n",
              "      <td>-0.003830</td>\n",
              "      <td>0.000060</td>\n",
              "    </tr>\n",
              "  </tbody>\n",
              "</table>\n",
              "<p>2586 rows × 2 columns</p>\n",
              "</div>"
            ],
            "text/plain": [
              "                  PG      MSFT\n",
              "Date                          \n",
              "2009-12-31       NaN       NaN\n",
              "2010-01-04  0.008049  0.015302\n",
              "2010-01-05  0.000328  0.000323\n",
              "2010-01-06 -0.004755 -0.006156\n",
              "2010-01-07 -0.005438 -0.010454\n",
              "...              ...       ...\n",
              "2020-04-03  0.005926 -0.009253\n",
              "2020-04-06  0.023446  0.071733\n",
              "2020-04-07 -0.043723 -0.010829\n",
              "2020-04-08  0.020451  0.009981\n",
              "2020-04-09 -0.003830  0.000060\n",
              "\n",
              "[2586 rows x 2 columns]"
            ]
          },
          "metadata": {
            "tags": []
          },
          "execution_count": 20
        }
      ]
    },
    {
      "cell_type": "code",
      "metadata": {
        "colab": {
          "base_uri": "https://localhost:8080/"
        },
        "id": "GDjEItBnUC6P",
        "outputId": "e4c33ec6-fb6b-429a-b1b4-301d19504a2b"
      },
      "source": [
        "#To obtain annual average returns!\n",
        "logReturns.mean() * 250 "
      ],
      "execution_count": null,
      "outputs": [
        {
          "output_type": "execute_result",
          "data": {
            "text/plain": [
              "PG      0.092645\n",
              "MSFT    0.186833\n",
              "dtype: float64"
            ]
          },
          "metadata": {
            "tags": []
          },
          "execution_count": 21
        }
      ]
    },
    {
      "cell_type": "code",
      "metadata": {
        "colab": {
          "base_uri": "https://localhost:8080/",
          "height": 112
        },
        "id": "1m7Zw2bEUFbP",
        "outputId": "761a555c-33f8-4e04-9e30-f08e8a59e0b6"
      },
      "source": [
        "#To obtain annual covariance between PG and Microsoft\n",
        "logReturns.cov() * 250 "
      ],
      "execution_count": null,
      "outputs": [
        {
          "output_type": "execute_result",
          "data": {
            "text/html": [
              "<div>\n",
              "<style scoped>\n",
              "    .dataframe tbody tr th:only-of-type {\n",
              "        vertical-align: middle;\n",
              "    }\n",
              "\n",
              "    .dataframe tbody tr th {\n",
              "        vertical-align: top;\n",
              "    }\n",
              "\n",
              "    .dataframe thead th {\n",
              "        text-align: right;\n",
              "    }\n",
              "</style>\n",
              "<table border=\"1\" class=\"dataframe\">\n",
              "  <thead>\n",
              "    <tr style=\"text-align: right;\">\n",
              "      <th></th>\n",
              "      <th>PG</th>\n",
              "      <th>MSFT</th>\n",
              "    </tr>\n",
              "  </thead>\n",
              "  <tbody>\n",
              "    <tr>\n",
              "      <th>PG</th>\n",
              "      <td>0.029078</td>\n",
              "      <td>0.019192</td>\n",
              "    </tr>\n",
              "    <tr>\n",
              "      <th>MSFT</th>\n",
              "      <td>0.019192</td>\n",
              "      <td>0.061942</td>\n",
              "    </tr>\n",
              "  </tbody>\n",
              "</table>\n",
              "</div>"
            ],
            "text/plain": [
              "            PG      MSFT\n",
              "PG    0.029078  0.019192\n",
              "MSFT  0.019192  0.061942"
            ]
          },
          "metadata": {
            "tags": []
          },
          "execution_count": 22
        }
      ]
    },
    {
      "cell_type": "code",
      "metadata": {
        "colab": {
          "base_uri": "https://localhost:8080/",
          "height": 112
        },
        "id": "r5f2JGz8UHng",
        "outputId": "119bc7d8-b5d3-4b37-96ab-04528fcf08d3"
      },
      "source": [
        "stock_data.corr()"
      ],
      "execution_count": null,
      "outputs": [
        {
          "output_type": "execute_result",
          "data": {
            "text/html": [
              "<div>\n",
              "<style scoped>\n",
              "    .dataframe tbody tr th:only-of-type {\n",
              "        vertical-align: middle;\n",
              "    }\n",
              "\n",
              "    .dataframe tbody tr th {\n",
              "        vertical-align: top;\n",
              "    }\n",
              "\n",
              "    .dataframe thead th {\n",
              "        text-align: right;\n",
              "    }\n",
              "</style>\n",
              "<table border=\"1\" class=\"dataframe\">\n",
              "  <thead>\n",
              "    <tr style=\"text-align: right;\">\n",
              "      <th></th>\n",
              "      <th>PG</th>\n",
              "      <th>MSFT</th>\n",
              "    </tr>\n",
              "  </thead>\n",
              "  <tbody>\n",
              "    <tr>\n",
              "      <th>PG</th>\n",
              "      <td>1.000000</td>\n",
              "      <td>0.925085</td>\n",
              "    </tr>\n",
              "    <tr>\n",
              "      <th>MSFT</th>\n",
              "      <td>0.925085</td>\n",
              "      <td>1.000000</td>\n",
              "    </tr>\n",
              "  </tbody>\n",
              "</table>\n",
              "</div>"
            ],
            "text/plain": [
              "            PG      MSFT\n",
              "PG    1.000000  0.925085\n",
              "MSFT  0.925085  1.000000"
            ]
          },
          "metadata": {
            "tags": []
          },
          "execution_count": 23
        }
      ]
    },
    {
      "cell_type": "code",
      "metadata": {
        "colab": {
          "base_uri": "https://localhost:8080/"
        },
        "id": "BC4eN6axUJ6o",
        "outputId": "0ca16d5e-c790-49e3-f25d-c790f267c008"
      },
      "source": [
        "# Dynamically generating weights code\n",
        "numberOfStocks = len(stocks)\n",
        "numberOfStocks"
      ],
      "execution_count": null,
      "outputs": [
        {
          "output_type": "execute_result",
          "data": {
            "text/plain": [
              "2"
            ]
          },
          "metadata": {
            "tags": []
          },
          "execution_count": 24
        }
      ]
    },
    {
      "cell_type": "code",
      "metadata": {
        "id": "9xkhKq7gUMNY"
      },
      "source": [
        "#random weights\n",
        "#weights = np.random.random(numberOfStocks)\n",
        "#weights = weights/np.sum(weights)\n"
      ],
      "execution_count": null,
      "outputs": []
    },
    {
      "cell_type": "code",
      "metadata": {
        "colab": {
          "base_uri": "https://localhost:8080/"
        },
        "id": "YdqcRbLrvwzU",
        "outputId": "f67777f3-5595-4c88-faac-1c6aa09a7324"
      },
      "source": [
        "weights1 = [0.19018562, 0.93358835]\n",
        "\n",
        "weights1"
      ],
      "execution_count": null,
      "outputs": [
        {
          "output_type": "execute_result",
          "data": {
            "text/plain": [
              "[0.19018562, 0.93358835]"
            ]
          },
          "metadata": {
            "tags": []
          },
          "execution_count": 26
        }
      ]
    },
    {
      "cell_type": "code",
      "metadata": {
        "colab": {
          "base_uri": "https://localhost:8080/"
        },
        "id": "kBpe20ztxKH2",
        "outputId": "1b6d6912-6790-496c-e21e-4d66bbfe0b61"
      },
      "source": [
        "weights = weights1/np.sum(weights1)#rebalance\n",
        "weights"
      ],
      "execution_count": null,
      "outputs": [
        {
          "output_type": "execute_result",
          "data": {
            "text/plain": [
              "array([0.16923832, 0.83076168])"
            ]
          },
          "metadata": {
            "tags": []
          },
          "execution_count": 17
        }
      ]
    },
    {
      "cell_type": "markdown",
      "metadata": {
        "id": "AUVlVYY4UXb4"
      },
      "source": [
        "Calculating expected return of portfolio"
      ]
    },
    {
      "cell_type": "code",
      "metadata": {
        "colab": {
          "base_uri": "https://localhost:8080/"
        },
        "id": "DiSeLvKKUVXg",
        "outputId": "cf0603a5-9279-4a9d-a991-6b785402cf5d"
      },
      "source": [
        "(weights * logReturns.mean()).sum() * 250"
      ],
      "execution_count": null,
      "outputs": [
        {
          "output_type": "execute_result",
          "data": {
            "text/plain": [
              "0.1708925568727753"
            ]
          },
          "metadata": {
            "tags": []
          },
          "execution_count": 18
        }
      ]
    },
    {
      "cell_type": "markdown",
      "metadata": {
        "id": "hss6B1H2UeNg"
      },
      "source": [
        "Expected standard deviance or volatility\n"
      ]
    },
    {
      "cell_type": "markdown",
      "metadata": {
        "id": "B1-jgrTQZo2_"
      },
      "source": [
        "![image.png](data:image/png;base64,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)"
      ]
    },
    {
      "cell_type": "code",
      "metadata": {
        "colab": {
          "base_uri": "https://localhost:8080/"
        },
        "id": "NaQ8SluVUcR_",
        "outputId": "5b789503-8dfa-4643-a13c-8793c8d4c692"
      },
      "source": [
        "np.sqrt(np.dot(weights.T, np.dot(logReturns.cov() * 250, weights)))"
      ],
      "execution_count": null,
      "outputs": [
        {
          "output_type": "execute_result",
          "data": {
            "text/plain": [
              "0.2213135854703171"
            ]
          },
          "metadata": {
            "tags": []
          },
          "execution_count": 27
        }
      ]
    },
    {
      "cell_type": "code",
      "metadata": {
        "colab": {
          "base_uri": "https://localhost:8080/",
          "height": 206
        },
        "id": "rd0INcPPUlLa",
        "outputId": "dd644dde-4c83-4619-c604-552a0b34743b"
      },
      "source": [
        "\n",
        "expectedReturn = []\n",
        "standardDeviation = []\n",
        "weightList0 = []\n",
        "weightList1 = []\n",
        "\n",
        "# Running simulations for finding optimum weights\n",
        "for i in range(100):\n",
        "    weights = np.random.random(numberOfStocks)\n",
        "    weights = weights/ weights.sum()\n",
        "    weightList0.append(weights[0])\n",
        "    weightList1.append(weights[1])\n",
        "    expectedReturn.append((weights * logReturns.mean()).sum() * 250)\n",
        "    standardDeviation.append(np.sqrt(np.dot(weights.T, np.dot(logReturns.cov() * 250, weights))))\n",
        "\n",
        "#Converting lists into arrays\n",
        "weightList0 = np.array(weightList0) #Weights for PG\n",
        "weightList1 = np.array(weightList1) #Weights for MSFT\n",
        "expectedReturn = np.array(expectedReturn) \n",
        "standardDeviation = np.array(standardDeviation)\n",
        "\n",
        "#Creating dataframe\n",
        "df = pd.DataFrame({\"Weight of PG\": weightList0, \"Weight of MSFT\": weightList1, \"Expected Return\": expectedReturn, \"Standard deviation\": standardDeviation})\n",
        "df.head()"
      ],
      "execution_count": null,
      "outputs": [
        {
          "output_type": "execute_result",
          "data": {
            "text/html": [
              "<div>\n",
              "<style scoped>\n",
              "    .dataframe tbody tr th:only-of-type {\n",
              "        vertical-align: middle;\n",
              "    }\n",
              "\n",
              "    .dataframe tbody tr th {\n",
              "        vertical-align: top;\n",
              "    }\n",
              "\n",
              "    .dataframe thead th {\n",
              "        text-align: right;\n",
              "    }\n",
              "</style>\n",
              "<table border=\"1\" class=\"dataframe\">\n",
              "  <thead>\n",
              "    <tr style=\"text-align: right;\">\n",
              "      <th></th>\n",
              "      <th>Weight of PG</th>\n",
              "      <th>Weight of MSFT</th>\n",
              "      <th>Expected Return</th>\n",
              "      <th>Standard deviation</th>\n",
              "    </tr>\n",
              "  </thead>\n",
              "  <tbody>\n",
              "    <tr>\n",
              "      <th>0</th>\n",
              "      <td>0.250093</td>\n",
              "      <td>0.749907</td>\n",
              "      <td>0.163277</td>\n",
              "      <td>0.209407</td>\n",
              "    </tr>\n",
              "    <tr>\n",
              "      <th>1</th>\n",
              "      <td>0.226214</td>\n",
              "      <td>0.773786</td>\n",
              "      <td>0.165526</td>\n",
              "      <td>0.212824</td>\n",
              "    </tr>\n",
              "    <tr>\n",
              "      <th>2</th>\n",
              "      <td>0.947472</td>\n",
              "      <td>0.052528</td>\n",
              "      <td>0.097592</td>\n",
              "      <td>0.167883</td>\n",
              "    </tr>\n",
              "    <tr>\n",
              "      <th>3</th>\n",
              "      <td>0.813797</td>\n",
              "      <td>0.186203</td>\n",
              "      <td>0.110183</td>\n",
              "      <td>0.164989</td>\n",
              "    </tr>\n",
              "    <tr>\n",
              "      <th>4</th>\n",
              "      <td>0.521993</td>\n",
              "      <td>0.478007</td>\n",
              "      <td>0.137667</td>\n",
              "      <td>0.177915</td>\n",
              "    </tr>\n",
              "  </tbody>\n",
              "</table>\n",
              "</div>"
            ],
            "text/plain": [
              "   Weight of PG  Weight of MSFT  Expected Return  Standard deviation\n",
              "0      0.250093        0.749907         0.163277            0.209407\n",
              "1      0.226214        0.773786         0.165526            0.212824\n",
              "2      0.947472        0.052528         0.097592            0.167883\n",
              "3      0.813797        0.186203         0.110183            0.164989\n",
              "4      0.521993        0.478007         0.137667            0.177915"
            ]
          },
          "metadata": {
            "tags": []
          },
          "execution_count": 28
        }
      ]
    },
    {
      "cell_type": "code",
      "metadata": {
        "colab": {
          "base_uri": "https://localhost:8080/",
          "height": 669
        },
        "id": "0ljbqGfMUnhY",
        "outputId": "c2c60f41-9f73-4e23-b132-25690abce98d"
      },
      "source": [
        "plt.figure(figsize=(14, 10), dpi=80)\n",
        "plt.scatter(df[\"Standard deviation\"], df[\"Expected Return\"])\n",
        "plt.xlabel(\"Standard deviation\")\n",
        "plt.ylabel(\"Expected return (in %)\")\n",
        "plt.show()"
      ],
      "execution_count": null,
      "outputs": [
        {
          "output_type": "display_data",
          "data": {
            "image/png": "[encoded data removed]",
            "text/plain": [
              "<Figure size 1120x800 with 1 Axes>"
            ]
          },
          "metadata": {
            "tags": [],
            "needs_background": "light"
          }
        }
      ]
    },
    {
      "cell_type": "code",
      "metadata": {
        "colab": {
          "base_uri": "https://localhost:8080/",
          "height": 206
        },
        "id": "o46cvhxYUp6I",
        "outputId": "791acb20-3102-4392-e813-677afc42df4e"
      },
      "source": [
        "df[(df[\"Expected Return\"]>0.11) & (df[\"Expected Return\"]< 0.12)].sort_values(by=['Expected Return'])\n"
      ],
      "execution_count": null,
      "outputs": [
        {
          "output_type": "execute_result",
          "data": {
            "text/html": [
              "<div>\n",
              "<style scoped>\n",
              "    .dataframe tbody tr th:only-of-type {\n",
              "        vertical-align: middle;\n",
              "    }\n",
              "\n",
              "    .dataframe tbody tr th {\n",
              "        vertical-align: top;\n",
              "    }\n",
              "\n",
              "    .dataframe thead th {\n",
              "        text-align: right;\n",
              "    }\n",
              "</style>\n",
              "<table border=\"1\" class=\"dataframe\">\n",
              "  <thead>\n",
              "    <tr style=\"text-align: right;\">\n",
              "      <th></th>\n",
              "      <th>Weight of PG</th>\n",
              "      <th>Weight of MSFT</th>\n",
              "      <th>Expected Return</th>\n",
              "      <th>Standard deviation</th>\n",
              "    </tr>\n",
              "  </thead>\n",
              "  <tbody>\n",
              "    <tr>\n",
              "      <th>3</th>\n",
              "      <td>0.813797</td>\n",
              "      <td>0.186203</td>\n",
              "      <td>0.110183</td>\n",
              "      <td>0.164989</td>\n",
              "    </tr>\n",
              "    <tr>\n",
              "      <th>19</th>\n",
              "      <td>0.810772</td>\n",
              "      <td>0.189228</td>\n",
              "      <td>0.110468</td>\n",
              "      <td>0.164989</td>\n",
              "    </tr>\n",
              "    <tr>\n",
              "      <th>62</th>\n",
              "      <td>0.780394</td>\n",
              "      <td>0.219606</td>\n",
              "      <td>0.113329</td>\n",
              "      <td>0.165149</td>\n",
              "    </tr>\n",
              "    <tr>\n",
              "      <th>27</th>\n",
              "      <td>0.760145</td>\n",
              "      <td>0.239855</td>\n",
              "      <td>0.115236</td>\n",
              "      <td>0.165420</td>\n",
              "    </tr>\n",
              "    <tr>\n",
              "      <th>83</th>\n",
              "      <td>0.758496</td>\n",
              "      <td>0.241504</td>\n",
              "      <td>0.115391</td>\n",
              "      <td>0.165447</td>\n",
              "    </tr>\n",
              "  </tbody>\n",
              "</table>\n",
              "</div>"
            ],
            "text/plain": [
              "    Weight of PG  Weight of MSFT  Expected Return  Standard deviation\n",
              "3       0.813797        0.186203         0.110183            0.164989\n",
              "19      0.810772        0.189228         0.110468            0.164989\n",
              "62      0.780394        0.219606         0.113329            0.165149\n",
              "27      0.760145        0.239855         0.115236            0.165420\n",
              "83      0.758496        0.241504         0.115391            0.165447"
            ]
          },
          "metadata": {
            "tags": []
          },
          "execution_count": 71
        }
      ]
    },
    {
      "cell_type": "code",
      "metadata": {
        "colab": {
          "base_uri": "https://localhost:8080/",
          "height": 363
        },
        "id": "xbcYtKEkUxvQ",
        "outputId": "387096c8-683e-4cf7-a0b0-d3033926009f"
      },
      "source": [
        "df[(df[\"Expected Return\"]>0.11)].sort_values(by=['Expected Return']).head(10)\n"
      ],
      "execution_count": null,
      "outputs": [
        {
          "output_type": "execute_result",
          "data": {
            "text/html": [
              "<div>\n",
              "<style scoped>\n",
              "    .dataframe tbody tr th:only-of-type {\n",
              "        vertical-align: middle;\n",
              "    }\n",
              "\n",
              "    .dataframe tbody tr th {\n",
              "        vertical-align: top;\n",
              "    }\n",
              "\n",
              "    .dataframe thead th {\n",
              "        text-align: right;\n",
              "    }\n",
              "</style>\n",
              "<table border=\"1\" class=\"dataframe\">\n",
              "  <thead>\n",
              "    <tr style=\"text-align: right;\">\n",
              "      <th></th>\n",
              "      <th>Weight of PG</th>\n",
              "      <th>Weight of MSFT</th>\n",
              "      <th>Expected Return</th>\n",
              "      <th>Standard deviation</th>\n",
              "    </tr>\n",
              "  </thead>\n",
              "  <tbody>\n",
              "    <tr>\n",
              "      <th>3</th>\n",
              "      <td>0.813797</td>\n",
              "      <td>0.186203</td>\n",
              "      <td>0.110183</td>\n",
              "      <td>0.164989</td>\n",
              "    </tr>\n",
              "    <tr>\n",
              "      <th>19</th>\n",
              "      <td>0.810772</td>\n",
              "      <td>0.189228</td>\n",
              "      <td>0.110468</td>\n",
              "      <td>0.164989</td>\n",
              "    </tr>\n",
              "    <tr>\n",
              "      <th>62</th>\n",
              "      <td>0.780394</td>\n",
              "      <td>0.219606</td>\n",
              "      <td>0.113329</td>\n",
              "      <td>0.165149</td>\n",
              "    </tr>\n",
              "    <tr>\n",
              "      <th>27</th>\n",
              "      <td>0.760145</td>\n",
              "      <td>0.239855</td>\n",
              "      <td>0.115236</td>\n",
              "      <td>0.165420</td>\n",
              "    </tr>\n",
              "    <tr>\n",
              "      <th>83</th>\n",
              "      <td>0.758496</td>\n",
              "      <td>0.241504</td>\n",
              "      <td>0.115391</td>\n",
              "      <td>0.165447</td>\n",
              "    </tr>\n",
              "    <tr>\n",
              "      <th>87</th>\n",
              "      <td>0.707479</td>\n",
              "      <td>0.292521</td>\n",
              "      <td>0.120197</td>\n",
              "      <td>0.166728</td>\n",
              "    </tr>\n",
              "    <tr>\n",
              "      <th>28</th>\n",
              "      <td>0.703269</td>\n",
              "      <td>0.296731</td>\n",
              "      <td>0.120593</td>\n",
              "      <td>0.166870</td>\n",
              "    </tr>\n",
              "    <tr>\n",
              "      <th>18</th>\n",
              "      <td>0.699465</td>\n",
              "      <td>0.300535</td>\n",
              "      <td>0.120951</td>\n",
              "      <td>0.167003</td>\n",
              "    </tr>\n",
              "    <tr>\n",
              "      <th>34</th>\n",
              "      <td>0.690390</td>\n",
              "      <td>0.309610</td>\n",
              "      <td>0.121806</td>\n",
              "      <td>0.167338</td>\n",
              "    </tr>\n",
              "    <tr>\n",
              "      <th>73</th>\n",
              "      <td>0.685657</td>\n",
              "      <td>0.314343</td>\n",
              "      <td>0.122252</td>\n",
              "      <td>0.167522</td>\n",
              "    </tr>\n",
              "  </tbody>\n",
              "</table>\n",
              "</div>"
            ],
            "text/plain": [
              "    Weight of PG  Weight of MSFT  Expected Return  Standard deviation\n",
              "3       0.813797        0.186203         0.110183            0.164989\n",
              "19      0.810772        0.189228         0.110468            0.164989\n",
              "62      0.780394        0.219606         0.113329            0.165149\n",
              "27      0.760145        0.239855         0.115236            0.165420\n",
              "83      0.758496        0.241504         0.115391            0.165447\n",
              "87      0.707479        0.292521         0.120197            0.166728\n",
              "28      0.703269        0.296731         0.120593            0.166870\n",
              "18      0.699465        0.300535         0.120951            0.167003\n",
              "34      0.690390        0.309610         0.121806            0.167338\n",
              "73      0.685657        0.314343         0.122252            0.167522"
            ]
          },
          "metadata": {
            "tags": []
          },
          "execution_count": 70
        }
      ]
    },
    {
      "cell_type": "code",
      "metadata": {
        "colab": {
          "base_uri": "https://localhost:8080/"
        },
        "id": "bTriDg2BUzwP",
        "outputId": "faa25cd9-052f-4192-f343-e23458a99743"
      },
      "source": [
        "df[\"Expected Return\"].mean()"
      ],
      "execution_count": null,
      "outputs": [
        {
          "output_type": "execute_result",
          "data": {
            "text/plain": [
              "0.13970579195729663"
            ]
          },
          "metadata": {
            "tags": []
          },
          "execution_count": 69
        }
      ]
    },
    {
      "cell_type": "code",
      "metadata": {
        "colab": {
          "base_uri": "https://localhost:8080/"
        },
        "id": "LmddD7IwU1vH",
        "outputId": "980913d3-1d21-4c61-fb01-81354bd4426a"
      },
      "source": [
        "df[\"Expected Return\"].sort_values().median()"
      ],
      "execution_count": null,
      "outputs": [
        {
          "output_type": "execute_result",
          "data": {
            "text/plain": [
              "0.13871557436296944"
            ]
          },
          "metadata": {
            "tags": []
          },
          "execution_count": 68
        }
      ]
    },
    {
      "cell_type": "code",
      "metadata": {
        "colab": {
          "base_uri": "https://localhost:8080/",
          "height": 424
        },
        "id": "fXKDn4W_U3w_",
        "outputId": "c9bf354c-856f-46bb-8448-b88935d844b1"
      },
      "source": [
        "df[(df[\"Expected Return\"]>0.135)].sort_values(by=['Expected Return'])\n"
      ],
      "execution_count": null,
      "outputs": [
        {
          "output_type": "execute_result",
          "data": {
            "text/html": [
              "<div>\n",
              "<style scoped>\n",
              "    .dataframe tbody tr th:only-of-type {\n",
              "        vertical-align: middle;\n",
              "    }\n",
              "\n",
              "    .dataframe tbody tr th {\n",
              "        vertical-align: top;\n",
              "    }\n",
              "\n",
              "    .dataframe thead th {\n",
              "        text-align: right;\n",
              "    }\n",
              "</style>\n",
              "<table border=\"1\" class=\"dataframe\">\n",
              "  <thead>\n",
              "    <tr style=\"text-align: right;\">\n",
              "      <th></th>\n",
              "      <th>Weight of PG</th>\n",
              "      <th>Weight of MSFT</th>\n",
              "      <th>Expected Return</th>\n",
              "      <th>Standard deviation</th>\n",
              "    </tr>\n",
              "  </thead>\n",
              "  <tbody>\n",
              "    <tr>\n",
              "      <th>20</th>\n",
              "      <td>0.544838</td>\n",
              "      <td>0.455162</td>\n",
              "      <td>0.135515</td>\n",
              "      <td>0.176020</td>\n",
              "    </tr>\n",
              "    <tr>\n",
              "      <th>51</th>\n",
              "      <td>0.538649</td>\n",
              "      <td>0.461351</td>\n",
              "      <td>0.136098</td>\n",
              "      <td>0.176520</td>\n",
              "    </tr>\n",
              "    <tr>\n",
              "      <th>78</th>\n",
              "      <td>0.534410</td>\n",
              "      <td>0.465590</td>\n",
              "      <td>0.136498</td>\n",
              "      <td>0.176868</td>\n",
              "    </tr>\n",
              "    <tr>\n",
              "      <th>77</th>\n",
              "      <td>0.533600</td>\n",
              "      <td>0.466400</td>\n",
              "      <td>0.136574</td>\n",
              "      <td>0.176935</td>\n",
              "    </tr>\n",
              "    <tr>\n",
              "      <th>45</th>\n",
              "      <td>0.530503</td>\n",
              "      <td>0.469497</td>\n",
              "      <td>0.136866</td>\n",
              "      <td>0.177193</td>\n",
              "    </tr>\n",
              "    <tr>\n",
              "      <th>...</th>\n",
              "      <td>...</td>\n",
              "      <td>...</td>\n",
              "      <td>...</td>\n",
              "      <td>...</td>\n",
              "    </tr>\n",
              "    <tr>\n",
              "      <th>67</th>\n",
              "      <td>0.104427</td>\n",
              "      <td>0.895573</td>\n",
              "      <td>0.176997</td>\n",
              "      <td>0.231490</td>\n",
              "    </tr>\n",
              "    <tr>\n",
              "      <th>94</th>\n",
              "      <td>0.077995</td>\n",
              "      <td>0.922005</td>\n",
              "      <td>0.179487</td>\n",
              "      <td>0.235783</td>\n",
              "    </tr>\n",
              "    <tr>\n",
              "      <th>46</th>\n",
              "      <td>0.029292</td>\n",
              "      <td>0.970708</td>\n",
              "      <td>0.184074</td>\n",
              "      <td>0.243891</td>\n",
              "    </tr>\n",
              "    <tr>\n",
              "      <th>57</th>\n",
              "      <td>0.028405</td>\n",
              "      <td>0.971595</td>\n",
              "      <td>0.184157</td>\n",
              "      <td>0.244041</td>\n",
              "    </tr>\n",
              "    <tr>\n",
              "      <th>54</th>\n",
              "      <td>0.023993</td>\n",
              "      <td>0.976007</td>\n",
              "      <td>0.184573</td>\n",
              "      <td>0.244788</td>\n",
              "    </tr>\n",
              "  </tbody>\n",
              "</table>\n",
              "<p>63 rows × 4 columns</p>\n",
              "</div>"
            ],
            "text/plain": [
              "    Weight of PG  Weight of MSFT  Expected Return  Standard deviation\n",
              "20      0.544838        0.455162         0.135515            0.176020\n",
              "51      0.538649        0.461351         0.136098            0.176520\n",
              "78      0.534410        0.465590         0.136498            0.176868\n",
              "77      0.533600        0.466400         0.136574            0.176935\n",
              "45      0.530503        0.469497         0.136866            0.177193\n",
              "..           ...             ...              ...                 ...\n",
              "67      0.104427        0.895573         0.176997            0.231490\n",
              "94      0.077995        0.922005         0.179487            0.235783\n",
              "46      0.029292        0.970708         0.184074            0.243891\n",
              "57      0.028405        0.971595         0.184157            0.244041\n",
              "54      0.023993        0.976007         0.184573            0.244788\n",
              "\n",
              "[63 rows x 4 columns]"
            ]
          },
          "metadata": {
            "tags": []
          },
          "execution_count": 66
        }
      ]
    },
    {
      "cell_type": "code",
      "metadata": {
        "colab": {
          "base_uri": "https://localhost:8080/"
        },
        "id": "YKZwuH-znYA3",
        "outputId": "0c0860e4-7bdc-4aa0-99d7-33f44e3eafe6"
      },
      "source": [
        "df.loc[15]"
      ],
      "execution_count": null,
      "outputs": [
        {
          "output_type": "execute_result",
          "data": {
            "text/plain": [
              "Weight of PG          0.512981\n",
              "Weight of MSFT        0.487019\n",
              "Expected Return       0.138516\n",
              "Standard deviation    0.178699\n",
              "Name: 15, dtype: float64"
            ]
          },
          "metadata": {
            "tags": []
          },
          "execution_count": 62
        }
      ]
    }
  ]
}