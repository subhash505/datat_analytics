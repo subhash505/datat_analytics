{
  "nbformat": 4,
  "nbformat_minor": 0,
  "metadata": {
    "kernelspec": {
      "display_name": "Python 3",
      "language": "python",
      "name": "python3"
    },
    "language_info": {
      "codemirror_mode": {
        "name": "ipython",
        "version": 3
      },
      "file_extension": ".py",
      "mimetype": "text/x-python",
      "name": "python",
      "nbconvert_exporter": "python",
      "pygments_lexer": "ipython3",
      "version": "3.6.7"
    },
    "colab": {
      "name": "1_CDAC_NLP_Regular_Expressions.ipynb",
      "provenance": [],
      "include_colab_link": true
    }
  },
  "cells": [
    {
      "cell_type": "markdown",
      "metadata": {
        "id": "view-in-github",
        "colab_type": "text"
      },
      "source": [
        "<a href=\"https://colab.research.google.com/github/subhash505/datat_analytics/blob/main/1_CDAC_NLP_Regular_Expressions.ipynb\" target=\"_parent\"><img src=\"https://colab.research.google.com/assets/colab-badge.svg\" alt=\"Open In Colab\"/></a>"
      ]
    },
    {
      "cell_type": "markdown",
      "metadata": {
        "id": "oY2ol3TuA1tP"
      },
      "source": [
        "# Regular Expressions in Python\n",
        "### Table of contents:\n",
        "1. **match()**\n",
        "2. **search()**\n",
        "3. **findall()**\n",
        "4. **finditer()**\n",
        "5. **sub()**\n",
        "6. **split()**\n",
        "7. **Groups**"
      ]
    },
    {
      "cell_type": "code",
      "metadata": {
        "id": "w65YcZrUA1tT"
      },
      "source": [
        "import re"
      ],
      "execution_count": null,
      "outputs": []
    },
    {
      "cell_type": "markdown",
      "metadata": {
        "id": "mTo7BrfvA1th"
      },
      "source": [
        "## 1. match()\n",
        "Checks for a match only at the beginning of the string"
      ]
    },
    {
      "cell_type": "code",
      "metadata": {
        "_cell_guid": "b1076dfc-b9ad-4769-8c92-a6c4dae69d19",
        "_uuid": "8f2839f25d086af736a60e9eeb907d3b93b6e0e5",
        "scrolled": true,
        "id": "x51ZeL5YA1tm",
        "colab": {
          "base_uri": "https://localhost:8080/"
        },
        "outputId": "f787425c-f929-4c22-d6b5-e2d2cc17bb39"
      },
      "source": [
        "# Defining a string\n",
        "string = \"Tiger is the national animal of India. Tiger lives in Forest.\"\n",
        "\n",
        "# Defining the pattern\n",
        "pattern = \"Tiger\"\n",
        "\n",
        "# Running match() on a string\n",
        "result = re.match(pattern, string)\n",
        "\n",
        "# Printing the result\n",
        "print(result)"
      ],
      "execution_count": null,
      "outputs": [
        {
          "output_type": "stream",
          "name": "stdout",
          "text": [
            "<re.Match object; span=(0, 5), match='Tiger'>\n"
          ]
        }
      ]
    },
    {
      "cell_type": "code",
      "metadata": {
        "id": "1hvbChN1A1tx",
        "colab": {
          "base_uri": "https://localhost:8080/"
        },
        "outputId": "79dcdb55-ff92-4388-cce7-02cd81f69afe"
      },
      "source": [
        "# Defining a string\n",
        "string = \"Tiger is the national animal of India. Tiger lives in Forest.\"\n",
        "\n",
        "# Defining the pattern\n",
        "pattern = \"Tiger\"\n",
        "\n",
        "# Extracting String from a match object\n",
        "result = re.match(pattern, string).group()\n",
        "\n",
        "# Printing the result\n",
        "print(result)"
      ],
      "execution_count": null,
      "outputs": [
        {
          "output_type": "stream",
          "name": "stdout",
          "text": [
            "Tiger\n"
          ]
        }
      ]
    },
    {
      "cell_type": "code",
      "metadata": {
        "scrolled": true,
        "id": "E7jP27xLA1t6",
        "colab": {
          "base_uri": "https://localhost:8080/"
        },
        "outputId": "291e6bd2-a6d3-4978-fe61-083b6677e6a1"
      },
      "source": [
        "string = \"The national animal of India is Tiger. Tiger lives in Forest.\"\n",
        "pattern = \"Tiger\"\n",
        "\n",
        "# Checking for match\n",
        "result = re.match(pattern, string)\n",
        "print(result)"
      ],
      "execution_count": null,
      "outputs": [
        {
          "output_type": "stream",
          "name": "stdout",
          "text": [
            "None\n"
          ]
        }
      ]
    },
    {
      "cell_type": "markdown",
      "metadata": {
        "id": "6Yn2DE-EA1uE"
      },
      "source": [
        "## 2. search()\n",
        "Locates a sub-string matching the RegEx pattern anywhere in the string"
      ]
    },
    {
      "cell_type": "code",
      "metadata": {
        "_cell_guid": "79c7e3d0-c299-4dcb-8224-4455121ee9b0",
        "_uuid": "d629ff2d2480ee46fbb7e2d37f6b5fab8052498a",
        "id": "XKpgamKVA1uF",
        "colab": {
          "base_uri": "https://localhost:8080/"
        },
        "outputId": "a79b9c2c-4e08-416f-d50a-24cf6d1ff1ce"
      },
      "source": [
        "string = \"The national animal of India is Tiger. Tiger lives in Forest.\"\n",
        "pattern = \"Tiger\"\n",
        "\n",
        "# Searching a substring using search()\n",
        "result = re.search(pattern, string)\n",
        "print(result)"
      ],
      "execution_count": null,
      "outputs": [
        {
          "output_type": "stream",
          "name": "stdout",
          "text": [
            "<re.Match object; span=(32, 37), match='Tiger'>\n"
          ]
        }
      ]
    },
    {
      "cell_type": "code",
      "metadata": {
        "id": "ldnqMaHVA1uN",
        "colab": {
          "base_uri": "https://localhost:8080/"
        },
        "outputId": "cd441371-a957-46e7-d2d3-ef1922e98db6"
      },
      "source": [
        "string = \"The national animal of India is Tiger. Tiger lives in Forest.\"\n",
        "pattern = \"Tiger\"\n",
        "\n",
        "# Extracting searched string\n",
        "result = re.search(pattern, string).group()\n",
        "print(result)"
      ],
      "execution_count": null,
      "outputs": [
        {
          "output_type": "stream",
          "name": "stdout",
          "text": [
            "Tiger\n"
          ]
        }
      ]
    },
    {
      "cell_type": "markdown",
      "metadata": {
        "id": "5938aTk1A1uV"
      },
      "source": [
        "## 3. findall()\n",
        "Finds all the sub-strings matching the RegEx pattern"
      ]
    },
    {
      "cell_type": "code",
      "metadata": {
        "_uuid": "d855bf8d6fe5b798eb03bb768b6ebc5b897a8d8d",
        "scrolled": true,
        "id": "7DZgJFyuA1uX",
        "colab": {
          "base_uri": "https://localhost:8080/"
        },
        "outputId": "6ca215a5-7150-49a9-ca03-5bc86fc64771"
      },
      "source": [
        "string = \"The national animal of India is Tiger. Tiger lives in Forest.\"\n",
        "pattern = \"Tiger\"\n",
        "\n",
        "# Using findall() on a string\n",
        "result = re.findall(pattern, string)\n",
        "print(result)"
      ],
      "execution_count": null,
      "outputs": [
        {
          "output_type": "stream",
          "name": "stdout",
          "text": [
            "['Tiger', 'Tiger']\n"
          ]
        }
      ]
    },
    {
      "cell_type": "code",
      "metadata": {
        "_uuid": "0174d065ea3d943f1e07ce2a8bb3054de73f246e",
        "id": "OpMfeQRPA1ud",
        "colab": {
          "base_uri": "https://localhost:8080/"
        },
        "outputId": "962366d2-aa46-4ea5-9420-7da150f2dec4"
      },
      "source": [
        "# Defining the string\n",
        "text = \"India got freedom on 15-08-1947, and it is celebrated as Independence Day.\\\n",
        "        Indian Constitution came into effect on 26-01-1950, and it is celebrated as Republic Day.\"\n",
        "\n",
        "# Defining the pattern\n",
        "date_pattern = r'\\d{2}-\\d{2}-\\d{4}'\n",
        "\n",
        "# Extracting dates using findall()\n",
        "re.findall(date_pattern, text)"
      ],
      "execution_count": null,
      "outputs": [
        {
          "output_type": "execute_result",
          "data": {
            "text/plain": [
              "['15-08-1947', '26-01-1950']"
            ]
          },
          "metadata": {},
          "execution_count": 8
        }
      ]
    },
    {
      "cell_type": "markdown",
      "metadata": {
        "id": "UbIaQpWmA1uk"
      },
      "source": [
        "## 4. finditer()\n",
        "Similar to findall() but returns an iterator"
      ]
    },
    {
      "cell_type": "code",
      "metadata": {
        "id": "Ml0mr66_A1um",
        "colab": {
          "base_uri": "https://localhost:8080/"
        },
        "outputId": "0ab48a06-bc90-4716-8ade-fa5cb25c83c8"
      },
      "source": [
        "string = \"The national animal of India is Tiger. Tiger lives in Forest.\"\n",
        "pattern = \"Tiger\"\n",
        "\n",
        "# Using finditer() on a string\n",
        "result = re.finditer(pattern, string)\n",
        "print(result)\n",
        "\n",
        "# Iterating over the iterator\n",
        "for m in result:\n",
        "    # Printing match object\n",
        "    print(m)\n",
        "    # Printing starting and ending index with matched substring\n",
        "    print('Start:',m.start(),' End:',m.end(),' Sub-string:',m.group())"
      ],
      "execution_count": null,
      "outputs": [
        {
          "output_type": "stream",
          "name": "stdout",
          "text": [
            "<callable_iterator object at 0x7f0505177810>\n",
            "<re.Match object; span=(32, 37), match='Tiger'>\n",
            "Start: 32  End: 37  Sub-string: Tiger\n",
            "<re.Match object; span=(39, 44), match='Tiger'>\n",
            "Start: 39  End: 44  Sub-string: Tiger\n"
          ]
        }
      ]
    },
    {
      "cell_type": "markdown",
      "metadata": {
        "id": "l4ZatWPxA1us"
      },
      "source": [
        "## 5. sub()\n",
        "Searches for a substring and replaces it with another string"
      ]
    },
    {
      "cell_type": "code",
      "metadata": {
        "_uuid": "33fbc134ce0f031a1edad8ceb7cb1f59b5054c63",
        "id": "TUyGHQMOA1ut",
        "colab": {
          "base_uri": "https://localhost:8080/"
        },
        "outputId": "f8ab7eca-866d-411f-b73e-1b9e80bd5866"
      },
      "source": [
        "text=\"CDAC is largest technical community of India.\"\n",
        "\n",
        "# Replacing a substring using sub()\n",
        "result=re.sub('India', 'the World',text)\n",
        "print(result)"
      ],
      "execution_count": null,
      "outputs": [
        {
          "output_type": "stream",
          "name": "stdout",
          "text": [
            "CDAC is largest technical community of the World.\n"
          ]
        }
      ]
    },
    {
      "cell_type": "markdown",
      "metadata": {
        "id": "_bWP1kRFA1uz"
      },
      "source": [
        "## 6. split()\n",
        "Split the text by the given RegEx Pattern"
      ]
    },
    {
      "cell_type": "code",
      "metadata": {
        "_uuid": "3c9c19a5a0c97d11d81c5eb0f27f19966f92c263",
        "id": "frzMC9RSA1u0",
        "colab": {
          "base_uri": "https://localhost:8080/"
        },
        "outputId": "345ee3fb-f8cf-4224-e801-45e4c2d7499e"
      },
      "source": [
        "line = \"I have a big test tomorrow; I can't go out tonight.\"\n",
        "\n",
        "# Splitting a string into multiple substrings\n",
        "re.split(r'[;]', line)"
      ],
      "execution_count": null,
      "outputs": [
        {
          "output_type": "execute_result",
          "data": {
            "text/plain": [
              "['I have a big test tomorrow', \" I can't go out tonight.\"]"
            ]
          },
          "metadata": {},
          "execution_count": 12
        }
      ]
    },
    {
      "cell_type": "markdown",
      "metadata": {
        "id": "hQ5kACDYA1u8"
      },
      "source": [
        "## 7. Groups"
      ]
    },
    {
      "cell_type": "code",
      "metadata": {
        "id": "x0YFvtRYA1u-",
        "colab": {
          "base_uri": "https://localhost:8080/"
        },
        "outputId": "9079c470-77a4-44db-b798-ea423af776e6"
      },
      "source": [
        "# Running a simple pattern on some text\n",
        "string=\"Ajay credited $500 to your account on 13-08-2020.\\\n",
        "      Anmol debited $1,700 from your account on 14-08-2020.\\\n",
        "      Alex debited $100 on 16-08-2020 from your account.\"\n",
        "\n",
        "pattern=\"[\\w]+ [\\w]+ \\$[\\d,]+ [a-zA-z ]+ \\d{2}-\\d{2}-\\d{4}\"\n",
        "\n",
        "result=re.findall(pattern,string)\n",
        "\n",
        "print(result)"
      ],
      "execution_count": null,
      "outputs": [
        {
          "output_type": "stream",
          "name": "stdout",
          "text": [
            "['Ajay credited $500 to your account on 13-08-2020', 'Anmol debited $1,700 from your account on 14-08-2020', 'Alex debited $100 on 16-08-2020']\n"
          ]
        }
      ]
    },
    {
      "cell_type": "code",
      "metadata": {
        "id": "cQ8xvKvhA1vE",
        "colab": {
          "base_uri": "https://localhost:8080/"
        },
        "outputId": "4571fd16-5a27-4a44-8c14-bdf2513ba845"
      },
      "source": [
        "string=\"Ajay credited $500 to your account on 13-08-2020.\\\n",
        "      Anmol debited $1,700 from your account on 14-08-2020.\\\n",
        "      Alex debited $100 on 16-08-2020 from your account.\"\n",
        "\n",
        "# Creating groups in the previous pattern\n",
        "pattern=\"([\\w]+) ([\\w]+) (\\$[\\d,]+) [a-zA-z ]+ (\\d{2}-\\d{2}-\\d{4})\"\n",
        "\n",
        "result=re.findall(pattern,string)\n",
        "\n",
        "print(result)"
      ],
      "execution_count": null,
      "outputs": [
        {
          "output_type": "stream",
          "name": "stdout",
          "text": [
            "[('Ajay', 'credited', '$500', '13-08-2020'), ('Anmol', 'debited', '$1,700', '14-08-2020'), ('Alex', 'debited', '$100', '16-08-2020')]\n"
          ]
        }
      ]
    },
    {
      "cell_type": "code",
      "metadata": {
        "id": "UOF8foSKA1vL",
        "colab": {
          "base_uri": "https://localhost:8080/",
          "height": 143
        },
        "outputId": "a38d8a2e-30b0-4846-acb4-7ca5eb42ece9"
      },
      "source": [
        "import pandas as pd\n",
        "\n",
        "# Creating a dataframe\n",
        "df=pd.DataFrame(result,columns=['Name','Type','Amount','Date'])\n",
        "df"
      ],
      "execution_count": null,
      "outputs": [
        {
          "output_type": "execute_result",
          "data": {
            "text/plain": [
              "    Name      Type  Amount        Date\n",
              "0   Ajay  credited    $500  13-08-2020\n",
              "1  Anmol   debited  $1,700  14-08-2020\n",
              "2   Alex   debited    $100  16-08-2020"
            ],
            "text/html": [
              "\n",
              "  <div id=\"df-4a4e6b16-b697-4e7c-b946-da07485c0be1\">\n",
              "    <div class=\"colab-df-container\">\n",
              "      <div>\n",
              "<style scoped>\n",
              "    .dataframe tbody tr th:only-of-type {\n",
              "        vertical-align: middle;\n",
              "    }\n",
              "\n",
              "    .dataframe tbody tr th {\n",
              "        vertical-align: top;\n",
              "    }\n",
              "\n",
              "    .dataframe thead th {\n",
              "        text-align: right;\n",
              "    }\n",
              "</style>\n",
              "<table border=\"1\" class=\"dataframe\">\n",
              "  <thead>\n",
              "    <tr style=\"text-align: right;\">\n",
              "      <th></th>\n",
              "      <th>Name</th>\n",
              "      <th>Type</th>\n",
              "      <th>Amount</th>\n",
              "      <th>Date</th>\n",
              "    </tr>\n",
              "  </thead>\n",
              "  <tbody>\n",
              "    <tr>\n",
              "      <th>0</th>\n",
              "      <td>Ajay</td>\n",
              "      <td>credited</td>\n",
              "      <td>$500</td>\n",
              "      <td>13-08-2020</td>\n",
              "    </tr>\n",
              "    <tr>\n",
              "      <th>1</th>\n",
              "      <td>Anmol</td>\n",
              "      <td>debited</td>\n",
              "      <td>$1,700</td>\n",
              "      <td>14-08-2020</td>\n",
              "    </tr>\n",
              "    <tr>\n",
              "      <th>2</th>\n",
              "      <td>Alex</td>\n",
              "      <td>debited</td>\n",
              "      <td>$100</td>\n",
              "      <td>16-08-2020</td>\n",
              "    </tr>\n",
              "  </tbody>\n",
              "</table>\n",
              "</div>\n",
              "      <button class=\"colab-df-convert\" onclick=\"convertToInteractive('df-4a4e6b16-b697-4e7c-b946-da07485c0be1')\"\n",
              "              title=\"Convert this dataframe to an interactive table.\"\n",
              "              style=\"display:none;\">\n",
              "        \n",
              "  <svg xmlns=\"http://www.w3.org/2000/svg\" height=\"24px\"viewBox=\"0 0 24 24\"\n",
              "       width=\"24px\">\n",
              "    <path d=\"M0 0h24v24H0V0z\" fill=\"none\"/>\n",
              "    <path d=\"M18.56 5.44l.94 2.06.94-2.06 2.06-.94-2.06-.94-.94-2.06-.94 2.06-2.06.94zm-11 1L8.5 8.5l.94-2.06 2.06-.94-2.06-.94L8.5 2.5l-.94 2.06-2.06.94zm10 10l.94 2.06.94-2.06 2.06-.94-2.06-.94-.94-2.06-.94 2.06-2.06.94z\"/><path d=\"M17.41 7.96l-1.37-1.37c-.4-.4-.92-.59-1.43-.59-.52 0-1.04.2-1.43.59L10.3 9.45l-7.72 7.72c-.78.78-.78 2.05 0 2.83L4 21.41c.39.39.9.59 1.41.59.51 0 1.02-.2 1.41-.59l7.78-7.78 2.81-2.81c.8-.78.8-2.07 0-2.86zM5.41 20L4 18.59l7.72-7.72 1.47 1.35L5.41 20z\"/>\n",
              "  </svg>\n",
              "      </button>\n",
              "      \n",
              "  <style>\n",
              "    .colab-df-container {\n",
              "      display:flex;\n",
              "      flex-wrap:wrap;\n",
              "      gap: 12px;\n",
              "    }\n",
              "\n",
              "    .colab-df-convert {\n",
              "      background-color: #E8F0FE;\n",
              "      border: none;\n",
              "      border-radius: 50%;\n",
              "      cursor: pointer;\n",
              "      display: none;\n",
              "      fill: #1967D2;\n",
              "      height: 32px;\n",
              "      padding: 0 0 0 0;\n",
              "      width: 32px;\n",
              "    }\n",
              "\n",
              "    .colab-df-convert:hover {\n",
              "      background-color: #E2EBFA;\n",
              "      box-shadow: 0px 1px 2px rgba(60, 64, 67, 0.3), 0px 1px 3px 1px rgba(60, 64, 67, 0.15);\n",
              "      fill: #174EA6;\n",
              "    }\n",
              "\n",
              "    [theme=dark] .colab-df-convert {\n",
              "      background-color: #3B4455;\n",
              "      fill: #D2E3FC;\n",
              "    }\n",
              "\n",
              "    [theme=dark] .colab-df-convert:hover {\n",
              "      background-color: #434B5C;\n",
              "      box-shadow: 0px 1px 3px 1px rgba(0, 0, 0, 0.15);\n",
              "      filter: drop-shadow(0px 1px 2px rgba(0, 0, 0, 0.3));\n",
              "      fill: #FFFFFF;\n",
              "    }\n",
              "  </style>\n",
              "\n",
              "      <script>\n",
              "        const buttonEl =\n",
              "          document.querySelector('#df-4a4e6b16-b697-4e7c-b946-da07485c0be1 button.colab-df-convert');\n",
              "        buttonEl.style.display =\n",
              "          google.colab.kernel.accessAllowed ? 'block' : 'none';\n",
              "\n",
              "        async function convertToInteractive(key) {\n",
              "          const element = document.querySelector('#df-4a4e6b16-b697-4e7c-b946-da07485c0be1');\n",
              "          const dataTable =\n",
              "            await google.colab.kernel.invokeFunction('convertToInteractive',\n",
              "                                                     [key], {});\n",
              "          if (!dataTable) return;\n",
              "\n",
              "          const docLinkHtml = 'Like what you see? Visit the ' +\n",
              "            '<a target=\"_blank\" href=https://colab.research.google.com/notebooks/data_table.ipynb>data table notebook</a>'\n",
              "            + ' to learn more about interactive tables.';\n",
              "          element.innerHTML = '';\n",
              "          dataTable['output_type'] = 'display_data';\n",
              "          await google.colab.output.renderOutput(dataTable, element);\n",
              "          const docLink = document.createElement('div');\n",
              "          docLink.innerHTML = docLinkHtml;\n",
              "          element.appendChild(docLink);\n",
              "        }\n",
              "      </script>\n",
              "    </div>\n",
              "  </div>\n",
              "  "
            ]
          },
          "metadata": {},
          "execution_count": 15
        }
      ]
    },
    {
      "cell_type": "code",
      "metadata": {
        "scrolled": true,
        "id": "ZwsASy4EA1vS",
        "colab": {
          "base_uri": "https://localhost:8080/"
        },
        "outputId": "3d21b8b5-eef7-4d66-be89-9b383952736b"
      },
      "source": [
        "# Using finditer() for getting match objects\n",
        "string=\"Ajay credited $500 to your account on 13-08-2020.\\\n",
        "      Anmol debited $1,700 from your account on 14-08-2020.\\\n",
        "      Alex debited $100 on 16-08-2020 from your account.\"\n",
        "\n",
        "pattern=\"([\\w]+) ([\\w]+) (\\$[\\d,]+) [a-zA-z ]+ (\\d{2}-\\d{2}-\\d{4})\"\n",
        "\n",
        "result=re.finditer(pattern,string)\n",
        "\n",
        "# Accessing groups separately\n",
        "for i in result:\n",
        "    print(i.group(0),'=>',i.group(1),'=>',i.group(2),'=>',i.group(3),'=>',i.group(4))"
      ],
      "execution_count": null,
      "outputs": [
        {
          "output_type": "stream",
          "name": "stdout",
          "text": [
            "Ajay credited $500 to your account on 13-08-2020 => Ajay => credited => $500 => 13-08-2020\n",
            "Anmol debited $1,700 from your account on 14-08-2020 => Anmol => debited => $1,700 => 14-08-2020\n",
            "Alex debited $100 on 16-08-2020 => Alex => debited => $100 => 16-08-2020\n"
          ]
        }
      ]
    },
    {
      "cell_type": "markdown",
      "metadata": {
        "id": "Rh-zWJkOA1vY"
      },
      "source": [
        "**Note:** Syntax for naming groups: `(?P<Group Name>Pattern)`"
      ]
    },
    {
      "cell_type": "code",
      "metadata": {
        "id": "b393attMA1vZ"
      },
      "source": [
        "string=\"Ajay credited $500 to your account on 13-08-2020.\\\n",
        "      Anmol debited $1,700 from your account on 14-08-2020.\\\n",
        "      Alex debited $100 on 16-08-2020 from your account.\"\n",
        "\n",
        "# Naming Groups\n",
        "pattern=\"(?P<Name>[\\w]+) (?P<Type>[\\w]+) (?P<Amount>\\$[\\d,]+) [a-zA-z ]+ (?P<Date>\\d{2}-\\d{2}-\\d{4})\"\n",
        "\n",
        "result=list(re.finditer(pattern,string))"
      ],
      "execution_count": null,
      "outputs": []
    },
    {
      "cell_type": "code",
      "metadata": {
        "id": "EBtiU-zQA1ve",
        "colab": {
          "base_uri": "https://localhost:8080/"
        },
        "outputId": "8dfa53c1-5c3a-4e3c-fa84-07332b0ce49f"
      },
      "source": [
        "# Accessing data by group names\n",
        "for i in result:\n",
        "    print(i.group('Name'),'=>',i.group('Amount'),'=>',i.group('Date'),'=>',i.group('Type'))"
      ],
      "execution_count": null,
      "outputs": [
        {
          "output_type": "stream",
          "name": "stdout",
          "text": [
            "Ajay => $500 => 13-08-2020 => credited\n",
            "Anmol => $1,700 => 14-08-2020 => debited\n",
            "Alex => $100 => 16-08-2020 => debited\n"
          ]
        }
      ]
    },
    {
      "cell_type": "code",
      "metadata": {
        "scrolled": true,
        "id": "EW4kaVQjA1vj",
        "colab": {
          "base_uri": "https://localhost:8080/",
          "height": 69
        },
        "outputId": "2e59c5a8-b8ed-4cf1-b8e8-7771b15c7bae"
      },
      "source": [
        "# Printing data with group names\n",
        "for i in result:\n",
        "    print(i.groupdict())"
      ],
      "execution_count": null,
      "outputs": [
        {
          "output_type": "stream",
          "text": [
            "{'Name': 'Ajay', 'Type': 'credited', 'Amount': '$500', 'Date': '13-08-2020'}\n",
            "{'Name': 'Anmol', 'Type': 'debited', 'Amount': '$1,700', 'Date': '14-08-2020'}\n",
            "{'Name': 'Alex', 'Type': 'debited', 'Amount': '$100', 'Date': '16-08-2020'}\n"
          ],
          "name": "stdout"
        }
      ]
    },
    {
      "cell_type": "code",
      "metadata": {
        "id": "w9bZgS5G361h"
      },
      "source": [
        ""
      ],
      "execution_count": null,
      "outputs": []
    }
  ]
}