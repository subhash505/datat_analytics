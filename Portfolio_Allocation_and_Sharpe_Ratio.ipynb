{
  "nbformat": 4,
  "nbformat_minor": 0,
  "metadata": {
    "kernelspec": {
      "display_name": "Python 3",
      "language": "python",
      "name": "python3"
    },
    "language_info": {
      "codemirror_mode": {
        "name": "ipython",
        "version": 3
      },
      "file_extension": ".py",
      "mimetype": "text/x-python",
      "name": "python",
      "nbconvert_exporter": "python",
      "pygments_lexer": "ipython3",
      "version": "3.8.3"
    },
    "colab": {
      "name": " Portfolio_Allocation and Sharpe_Ratio.ipynb",
      "provenance": [],
      "include_colab_link": true
    }
  },
  "cells": [
    {
      "cell_type": "markdown",
      "metadata": {
        "id": "view-in-github",
        "colab_type": "text"
      },
      "source": [
        "<a href=\"https://colab.research.google.com/github/subhash505/datat_analytics/blob/main/Portfolio_Allocation_and_Sharpe_Ratio.ipynb\" target=\"_parent\"><img src=\"https://colab.research.google.com/assets/colab-badge.svg\" alt=\"Open In Colab\"/></a>"
      ]
    },
    {
      "cell_type": "code",
      "metadata": {
        "id": "773E0sh9FTv5"
      },
      "source": [
        "import pandas as pd"
      ],
      "execution_count": null,
      "outputs": []
    },
    {
      "cell_type": "code",
      "metadata": {
        "id": "5U1GUBQ9FTv8",
        "colab": {
          "base_uri": "https://localhost:8080/"
        },
        "outputId": "2a6f55d9-ebac-4d97-9958-2f29d7c5d115"
      },
      "source": [
        "!pip install quandl"
      ],
      "execution_count": null,
      "outputs": [
        {
          "output_type": "stream",
          "text": [
            "Collecting quandl\n",
            "  Downloading Quandl-3.6.1-py2.py3-none-any.whl (26 kB)\n",
            "Requirement already satisfied: python-dateutil in /usr/local/lib/python3.7/dist-packages (from quandl) (2.8.1)\n",
            "Requirement already satisfied: more-itertools in /usr/local/lib/python3.7/dist-packages (from quandl) (8.8.0)\n",
            "Requirement already satisfied: numpy>=1.8 in /usr/local/lib/python3.7/dist-packages (from quandl) (1.19.5)\n",
            "Requirement already satisfied: six in /usr/local/lib/python3.7/dist-packages (from quandl) (1.15.0)\n",
            "Requirement already satisfied: requests>=2.7.0 in /usr/local/lib/python3.7/dist-packages (from quandl) (2.23.0)\n",
            "Requirement already satisfied: pandas>=0.14 in /usr/local/lib/python3.7/dist-packages (from quandl) (1.1.5)\n",
            "Collecting inflection>=0.3.1\n",
            "  Downloading inflection-0.5.1-py2.py3-none-any.whl (9.5 kB)\n",
            "Requirement already satisfied: pytz>=2017.2 in /usr/local/lib/python3.7/dist-packages (from pandas>=0.14->quandl) (2018.9)\n",
            "Requirement already satisfied: chardet<4,>=3.0.2 in /usr/local/lib/python3.7/dist-packages (from requests>=2.7.0->quandl) (3.0.4)\n",
            "Requirement already satisfied: idna<3,>=2.5 in /usr/local/lib/python3.7/dist-packages (from requests>=2.7.0->quandl) (2.10)\n",
            "Requirement already satisfied: urllib3!=1.25.0,!=1.25.1,<1.26,>=1.21.1 in /usr/local/lib/python3.7/dist-packages (from requests>=2.7.0->quandl) (1.24.3)\n",
            "Requirement already satisfied: certifi>=2017.4.17 in /usr/local/lib/python3.7/dist-packages (from requests>=2.7.0->quandl) (2021.5.30)\n",
            "Installing collected packages: inflection, quandl\n",
            "Successfully installed inflection-0.5.1 quandl-3.6.1\n"
          ],
          "name": "stdout"
        }
      ]
    },
    {
      "cell_type": "code",
      "metadata": {
        "id": "Ms4t_LD8FTv-"
      },
      "source": [
        "import quandl"
      ],
      "execution_count": null,
      "outputs": []
    },
    {
      "cell_type": "markdown",
      "metadata": {
        "id": "m_5uauSbFTv-"
      },
      "source": [
        "## Create a portfolio"
      ]
    },
    {
      "cell_type": "code",
      "metadata": {
        "id": "bCJ9c9tkFTv_"
      },
      "source": [
        "start=pd.to_datetime('2012-01-01')\n",
        "end=pd.to_datetime('2021-01-01')"
      ],
      "execution_count": null,
      "outputs": []
    },
    {
      "cell_type": "code",
      "metadata": {
        "id": "PDTr4KqKFTwA"
      },
      "source": [
        "aapl=quandl.get('WIKI/AAPL.11',start_date=start,end_date=end)\n",
        "cisco=quandl.get('WIKI/CSCO.11',start_date=start,end_date=end)\n",
        "ibm=quandl.get('WIKI/IBM.11',start_date=start,end_date=end)\n",
        "amzn=quandl.get('WIKI/AMZN.11',start_date=start,end_date=end)"
      ],
      "execution_count": null,
      "outputs": []
    },
    {
      "cell_type": "code",
      "metadata": {
        "id": "1boIw06YFTwB"
      },
      "source": [
        "aapl.to_csv('AAPL_CLOSE')\n",
        "cisco.to_csv('CSCO_CLOSE')\n",
        "ibm.to_csv('IBM_CLOSE')\n",
        "amzn.to_csv('AMZN_CLOSE')"
      ],
      "execution_count": null,
      "outputs": []
    },
    {
      "cell_type": "code",
      "metadata": {
        "id": "dXODzLWNFTwB",
        "colab": {
          "base_uri": "https://localhost:8080/",
          "height": 237
        },
        "outputId": "4a5570bd-2df4-46ed-d866-ac4325a1439e"
      },
      "source": [
        "aapl.head()"
      ],
      "execution_count": null,
      "outputs": [
        {
          "output_type": "execute_result",
          "data": {
            "text/html": [
              "<div>\n",
              "<style scoped>\n",
              "    .dataframe tbody tr th:only-of-type {\n",
              "        vertical-align: middle;\n",
              "    }\n",
              "\n",
              "    .dataframe tbody tr th {\n",
              "        vertical-align: top;\n",
              "    }\n",
              "\n",
              "    .dataframe thead th {\n",
              "        text-align: right;\n",
              "    }\n",
              "</style>\n",
              "<table border=\"1\" class=\"dataframe\">\n",
              "  <thead>\n",
              "    <tr style=\"text-align: right;\">\n",
              "      <th></th>\n",
              "      <th>Adj. Close</th>\n",
              "    </tr>\n",
              "    <tr>\n",
              "      <th>Date</th>\n",
              "      <th></th>\n",
              "    </tr>\n",
              "  </thead>\n",
              "  <tbody>\n",
              "    <tr>\n",
              "      <th>2012-01-03</th>\n",
              "      <td>52.848787</td>\n",
              "    </tr>\n",
              "    <tr>\n",
              "      <th>2012-01-04</th>\n",
              "      <td>53.132802</td>\n",
              "    </tr>\n",
              "    <tr>\n",
              "      <th>2012-01-05</th>\n",
              "      <td>53.722681</td>\n",
              "    </tr>\n",
              "    <tr>\n",
              "      <th>2012-01-06</th>\n",
              "      <td>54.284287</td>\n",
              "    </tr>\n",
              "    <tr>\n",
              "      <th>2012-01-09</th>\n",
              "      <td>54.198183</td>\n",
              "    </tr>\n",
              "  </tbody>\n",
              "</table>\n",
              "</div>"
            ],
            "text/plain": [
              "            Adj. Close\n",
              "Date                  \n",
              "2012-01-03   52.848787\n",
              "2012-01-04   53.132802\n",
              "2012-01-05   53.722681\n",
              "2012-01-06   54.284287\n",
              "2012-01-09   54.198183"
            ]
          },
          "metadata": {
            "tags": []
          },
          "execution_count": 7
        }
      ]
    },
    {
      "cell_type": "markdown",
      "metadata": {
        "id": "wmJ1gRUMFTwC"
      },
      "source": [
        "## Normalize Prices\n",
        "Same as Cumulative Daily Returns"
      ]
    },
    {
      "cell_type": "code",
      "metadata": {
        "id": "vbaU187sFTwD",
        "colab": {
          "base_uri": "https://localhost:8080/"
        },
        "outputId": "d818ff46-3c68-4dba-8595-20a2d0e0e93b"
      },
      "source": [
        "aapl.iloc[0]['Adj. Close']"
      ],
      "execution_count": null,
      "outputs": [
        {
          "output_type": "execute_result",
          "data": {
            "text/plain": [
              "52.848786580038"
            ]
          },
          "metadata": {
            "tags": []
          },
          "execution_count": 8
        }
      ]
    },
    {
      "cell_type": "code",
      "metadata": {
        "id": "2SopXno2FTwD"
      },
      "source": [
        "for stock_df in (aapl,cisco,ibm,amzn):\n",
        "    stock_df['Normed Return']=stock_df['Adj. Close']/stock_df.iloc[0]['Adj. Close']"
      ],
      "execution_count": null,
      "outputs": []
    },
    {
      "cell_type": "code",
      "metadata": {
        "id": "aPcQRnu_FTwD",
        "colab": {
          "base_uri": "https://localhost:8080/",
          "height": 237
        },
        "outputId": "5f57f667-d5c2-476b-c6b1-8b2dcd9ab35f"
      },
      "source": [
        "aapl.head()"
      ],
      "execution_count": null,
      "outputs": [
        {
          "output_type": "execute_result",
          "data": {
            "text/html": [
              "<div>\n",
              "<style scoped>\n",
              "    .dataframe tbody tr th:only-of-type {\n",
              "        vertical-align: middle;\n",
              "    }\n",
              "\n",
              "    .dataframe tbody tr th {\n",
              "        vertical-align: top;\n",
              "    }\n",
              "\n",
              "    .dataframe thead th {\n",
              "        text-align: right;\n",
              "    }\n",
              "</style>\n",
              "<table border=\"1\" class=\"dataframe\">\n",
              "  <thead>\n",
              "    <tr style=\"text-align: right;\">\n",
              "      <th></th>\n",
              "      <th>Adj. Close</th>\n",
              "      <th>Normed Return</th>\n",
              "    </tr>\n",
              "    <tr>\n",
              "      <th>Date</th>\n",
              "      <th></th>\n",
              "      <th></th>\n",
              "    </tr>\n",
              "  </thead>\n",
              "  <tbody>\n",
              "    <tr>\n",
              "      <th>2012-01-03</th>\n",
              "      <td>52.848787</td>\n",
              "      <td>1.000000</td>\n",
              "    </tr>\n",
              "    <tr>\n",
              "      <th>2012-01-04</th>\n",
              "      <td>53.132802</td>\n",
              "      <td>1.005374</td>\n",
              "    </tr>\n",
              "    <tr>\n",
              "      <th>2012-01-05</th>\n",
              "      <td>53.722681</td>\n",
              "      <td>1.016536</td>\n",
              "    </tr>\n",
              "    <tr>\n",
              "      <th>2012-01-06</th>\n",
              "      <td>54.284287</td>\n",
              "      <td>1.027162</td>\n",
              "    </tr>\n",
              "    <tr>\n",
              "      <th>2012-01-09</th>\n",
              "      <td>54.198183</td>\n",
              "      <td>1.025533</td>\n",
              "    </tr>\n",
              "  </tbody>\n",
              "</table>\n",
              "</div>"
            ],
            "text/plain": [
              "            Adj. Close  Normed Return\n",
              "Date                                 \n",
              "2012-01-03   52.848787       1.000000\n",
              "2012-01-04   53.132802       1.005374\n",
              "2012-01-05   53.722681       1.016536\n",
              "2012-01-06   54.284287       1.027162\n",
              "2012-01-09   54.198183       1.025533"
            ]
          },
          "metadata": {
            "tags": []
          },
          "execution_count": 10
        }
      ]
    },
    {
      "cell_type": "markdown",
      "metadata": {
        "id": "xC__VUslFTwE"
      },
      "source": [
        "## Allocations\n",
        "\n",
        "Let's pretend we had the following allocations for our total portfolio:\n",
        "\n",
        "* 30% in Apple\n",
        "* 20% in Google/Alphabet\n",
        "* 40% in Amazon\n",
        "* 10% in IBM\n",
        "\n",
        "Let's have these values be reflected by multiplying our Norme Return by out Allocations"
      ]
    },
    {
      "cell_type": "code",
      "metadata": {
        "id": "uwM4K14XFTwE"
      },
      "source": [
        "for stock_df,allo in zip([aapl,cisco,ibm,amzn],[.3,.2,.4,.1]):\n",
        "    stock_df['Allocation']=stock_df['Normed Return']*allo"
      ],
      "execution_count": null,
      "outputs": []
    },
    {
      "cell_type": "code",
      "metadata": {
        "id": "0xKdtf6sFTwF",
        "colab": {
          "base_uri": "https://localhost:8080/",
          "height": 237
        },
        "outputId": "3f54477d-5144-432d-e752-51c7b1b60de9"
      },
      "source": [
        "aapl.head()"
      ],
      "execution_count": null,
      "outputs": [
        {
          "output_type": "execute_result",
          "data": {
            "text/html": [
              "<div>\n",
              "<style scoped>\n",
              "    .dataframe tbody tr th:only-of-type {\n",
              "        vertical-align: middle;\n",
              "    }\n",
              "\n",
              "    .dataframe tbody tr th {\n",
              "        vertical-align: top;\n",
              "    }\n",
              "\n",
              "    .dataframe thead th {\n",
              "        text-align: right;\n",
              "    }\n",
              "</style>\n",
              "<table border=\"1\" class=\"dataframe\">\n",
              "  <thead>\n",
              "    <tr style=\"text-align: right;\">\n",
              "      <th></th>\n",
              "      <th>Adj. Close</th>\n",
              "      <th>Normed Return</th>\n",
              "      <th>Allocation</th>\n",
              "    </tr>\n",
              "    <tr>\n",
              "      <th>Date</th>\n",
              "      <th></th>\n",
              "      <th></th>\n",
              "      <th></th>\n",
              "    </tr>\n",
              "  </thead>\n",
              "  <tbody>\n",
              "    <tr>\n",
              "      <th>2012-01-03</th>\n",
              "      <td>52.848787</td>\n",
              "      <td>1.000000</td>\n",
              "      <td>0.300000</td>\n",
              "    </tr>\n",
              "    <tr>\n",
              "      <th>2012-01-04</th>\n",
              "      <td>53.132802</td>\n",
              "      <td>1.005374</td>\n",
              "      <td>0.301612</td>\n",
              "    </tr>\n",
              "    <tr>\n",
              "      <th>2012-01-05</th>\n",
              "      <td>53.722681</td>\n",
              "      <td>1.016536</td>\n",
              "      <td>0.304961</td>\n",
              "    </tr>\n",
              "    <tr>\n",
              "      <th>2012-01-06</th>\n",
              "      <td>54.284287</td>\n",
              "      <td>1.027162</td>\n",
              "      <td>0.308149</td>\n",
              "    </tr>\n",
              "    <tr>\n",
              "      <th>2012-01-09</th>\n",
              "      <td>54.198183</td>\n",
              "      <td>1.025533</td>\n",
              "      <td>0.307660</td>\n",
              "    </tr>\n",
              "  </tbody>\n",
              "</table>\n",
              "</div>"
            ],
            "text/plain": [
              "            Adj. Close  Normed Return  Allocation\n",
              "Date                                             \n",
              "2012-01-03   52.848787       1.000000    0.300000\n",
              "2012-01-04   53.132802       1.005374    0.301612\n",
              "2012-01-05   53.722681       1.016536    0.304961\n",
              "2012-01-06   54.284287       1.027162    0.308149\n",
              "2012-01-09   54.198183       1.025533    0.307660"
            ]
          },
          "metadata": {
            "tags": []
          },
          "execution_count": 12
        }
      ]
    },
    {
      "cell_type": "markdown",
      "metadata": {
        "id": "WrhfLuNIFTwG"
      },
      "source": [
        "## Investment\n",
        "\n",
        "Let's pretend we invested a million dollars in this portfolio"
      ]
    },
    {
      "cell_type": "code",
      "metadata": {
        "id": "8K_fxKGpFTwG"
      },
      "source": [
        "for stock_df in (aapl,cisco,ibm,amzn):\n",
        "    stock_df['Position Values']=stock_df['Allocation']*1000000"
      ],
      "execution_count": null,
      "outputs": []
    },
    {
      "cell_type": "code",
      "metadata": {
        "id": "zesk6LaaFTwH",
        "colab": {
          "base_uri": "https://localhost:8080/",
          "height": 237
        },
        "outputId": "e335dde5-8fc9-4121-dafe-81084603a627"
      },
      "source": [
        "aapl.head()"
      ],
      "execution_count": null,
      "outputs": [
        {
          "output_type": "execute_result",
          "data": {
            "text/html": [
              "<div>\n",
              "<style scoped>\n",
              "    .dataframe tbody tr th:only-of-type {\n",
              "        vertical-align: middle;\n",
              "    }\n",
              "\n",
              "    .dataframe tbody tr th {\n",
              "        vertical-align: top;\n",
              "    }\n",
              "\n",
              "    .dataframe thead th {\n",
              "        text-align: right;\n",
              "    }\n",
              "</style>\n",
              "<table border=\"1\" class=\"dataframe\">\n",
              "  <thead>\n",
              "    <tr style=\"text-align: right;\">\n",
              "      <th></th>\n",
              "      <th>Adj. Close</th>\n",
              "      <th>Normed Return</th>\n",
              "      <th>Allocation</th>\n",
              "      <th>Position Values</th>\n",
              "    </tr>\n",
              "    <tr>\n",
              "      <th>Date</th>\n",
              "      <th></th>\n",
              "      <th></th>\n",
              "      <th></th>\n",
              "      <th></th>\n",
              "    </tr>\n",
              "  </thead>\n",
              "  <tbody>\n",
              "    <tr>\n",
              "      <th>2012-01-03</th>\n",
              "      <td>52.848787</td>\n",
              "      <td>1.000000</td>\n",
              "      <td>0.300000</td>\n",
              "      <td>300000.000000</td>\n",
              "    </tr>\n",
              "    <tr>\n",
              "      <th>2012-01-04</th>\n",
              "      <td>53.132802</td>\n",
              "      <td>1.005374</td>\n",
              "      <td>0.301612</td>\n",
              "      <td>301612.236461</td>\n",
              "    </tr>\n",
              "    <tr>\n",
              "      <th>2012-01-05</th>\n",
              "      <td>53.722681</td>\n",
              "      <td>1.016536</td>\n",
              "      <td>0.304961</td>\n",
              "      <td>304960.727573</td>\n",
              "    </tr>\n",
              "    <tr>\n",
              "      <th>2012-01-06</th>\n",
              "      <td>54.284287</td>\n",
              "      <td>1.027162</td>\n",
              "      <td>0.308149</td>\n",
              "      <td>308148.724558</td>\n",
              "    </tr>\n",
              "    <tr>\n",
              "      <th>2012-01-09</th>\n",
              "      <td>54.198183</td>\n",
              "      <td>1.025533</td>\n",
              "      <td>0.307660</td>\n",
              "      <td>307659.946988</td>\n",
              "    </tr>\n",
              "  </tbody>\n",
              "</table>\n",
              "</div>"
            ],
            "text/plain": [
              "            Adj. Close  Normed Return  Allocation  Position Values\n",
              "Date                                                              \n",
              "2012-01-03   52.848787       1.000000    0.300000    300000.000000\n",
              "2012-01-04   53.132802       1.005374    0.301612    301612.236461\n",
              "2012-01-05   53.722681       1.016536    0.304961    304960.727573\n",
              "2012-01-06   54.284287       1.027162    0.308149    308148.724558\n",
              "2012-01-09   54.198183       1.025533    0.307660    307659.946988"
            ]
          },
          "metadata": {
            "tags": []
          },
          "execution_count": 14
        }
      ]
    },
    {
      "cell_type": "markdown",
      "metadata": {
        "id": "u697WbpTFTwH"
      },
      "source": [
        "## Total Portfolio Value"
      ]
    },
    {
      "cell_type": "code",
      "metadata": {
        "id": "Vb160gi6FTwH"
      },
      "source": [
        "portfolio_val=pd.concat([aapl['Position Values'],cisco['Position Values'],ibm['Position Values'],\n",
        "                         amzn['Position Values']],axis=1)"
      ],
      "execution_count": null,
      "outputs": []
    },
    {
      "cell_type": "code",
      "metadata": {
        "id": "BFW29HDyFTwI",
        "colab": {
          "base_uri": "https://localhost:8080/",
          "height": 237
        },
        "outputId": "a7bfc50e-e6ab-46a5-9656-0f3f9cc0d04f"
      },
      "source": [
        "portfolio_val.head()"
      ],
      "execution_count": null,
      "outputs": [
        {
          "output_type": "execute_result",
          "data": {
            "text/html": [
              "<div>\n",
              "<style scoped>\n",
              "    .dataframe tbody tr th:only-of-type {\n",
              "        vertical-align: middle;\n",
              "    }\n",
              "\n",
              "    .dataframe tbody tr th {\n",
              "        vertical-align: top;\n",
              "    }\n",
              "\n",
              "    .dataframe thead th {\n",
              "        text-align: right;\n",
              "    }\n",
              "</style>\n",
              "<table border=\"1\" class=\"dataframe\">\n",
              "  <thead>\n",
              "    <tr style=\"text-align: right;\">\n",
              "      <th></th>\n",
              "      <th>Position Values</th>\n",
              "      <th>Position Values</th>\n",
              "      <th>Position Values</th>\n",
              "      <th>Position Values</th>\n",
              "    </tr>\n",
              "    <tr>\n",
              "      <th>Date</th>\n",
              "      <th></th>\n",
              "      <th></th>\n",
              "      <th></th>\n",
              "      <th></th>\n",
              "    </tr>\n",
              "  </thead>\n",
              "  <tbody>\n",
              "    <tr>\n",
              "      <th>2012-01-03</th>\n",
              "      <td>300000.000000</td>\n",
              "      <td>200000.000000</td>\n",
              "      <td>400000.000000</td>\n",
              "      <td>100000.000000</td>\n",
              "    </tr>\n",
              "    <tr>\n",
              "      <th>2012-01-04</th>\n",
              "      <td>301612.236461</td>\n",
              "      <td>203864.734300</td>\n",
              "      <td>398368.223296</td>\n",
              "      <td>99150.980283</td>\n",
              "    </tr>\n",
              "    <tr>\n",
              "      <th>2012-01-05</th>\n",
              "      <td>304960.727573</td>\n",
              "      <td>203113.258186</td>\n",
              "      <td>396478.797638</td>\n",
              "      <td>99206.836843</td>\n",
              "    </tr>\n",
              "    <tr>\n",
              "      <th>2012-01-06</th>\n",
              "      <td>308148.724558</td>\n",
              "      <td>202361.782072</td>\n",
              "      <td>391926.999463</td>\n",
              "      <td>101999.664861</td>\n",
              "    </tr>\n",
              "    <tr>\n",
              "      <th>2012-01-09</th>\n",
              "      <td>307659.946988</td>\n",
              "      <td>203650.026838</td>\n",
              "      <td>389887.278583</td>\n",
              "      <td>99737.474166</td>\n",
              "    </tr>\n",
              "  </tbody>\n",
              "</table>\n",
              "</div>"
            ],
            "text/plain": [
              "            Position Values  Position Values  Position Values  Position Values\n",
              "Date                                                                          \n",
              "2012-01-03    300000.000000    200000.000000    400000.000000    100000.000000\n",
              "2012-01-04    301612.236461    203864.734300    398368.223296     99150.980283\n",
              "2012-01-05    304960.727573    203113.258186    396478.797638     99206.836843\n",
              "2012-01-06    308148.724558    202361.782072    391926.999463    101999.664861\n",
              "2012-01-09    307659.946988    203650.026838    389887.278583     99737.474166"
            ]
          },
          "metadata": {
            "tags": []
          },
          "execution_count": 16
        }
      ]
    },
    {
      "cell_type": "code",
      "metadata": {
        "id": "NtOve3jwFTwI"
      },
      "source": [
        "portfolio_val.columns=['AAPL Pos','CISCO Pos','IBM Pos','AMZN Pos']"
      ],
      "execution_count": null,
      "outputs": []
    },
    {
      "cell_type": "code",
      "metadata": {
        "id": "-OOVIO2yFTwJ",
        "colab": {
          "base_uri": "https://localhost:8080/",
          "height": 237
        },
        "outputId": "d2d495f0-e98c-451e-a29d-6ebbbf6b558d"
      },
      "source": [
        "portfolio_val.head()"
      ],
      "execution_count": null,
      "outputs": [
        {
          "output_type": "execute_result",
          "data": {
            "text/html": [
              "<div>\n",
              "<style scoped>\n",
              "    .dataframe tbody tr th:only-of-type {\n",
              "        vertical-align: middle;\n",
              "    }\n",
              "\n",
              "    .dataframe tbody tr th {\n",
              "        vertical-align: top;\n",
              "    }\n",
              "\n",
              "    .dataframe thead th {\n",
              "        text-align: right;\n",
              "    }\n",
              "</style>\n",
              "<table border=\"1\" class=\"dataframe\">\n",
              "  <thead>\n",
              "    <tr style=\"text-align: right;\">\n",
              "      <th></th>\n",
              "      <th>AAPL Pos</th>\n",
              "      <th>CISCO Pos</th>\n",
              "      <th>IBM Pos</th>\n",
              "      <th>AMZN Pos</th>\n",
              "    </tr>\n",
              "    <tr>\n",
              "      <th>Date</th>\n",
              "      <th></th>\n",
              "      <th></th>\n",
              "      <th></th>\n",
              "      <th></th>\n",
              "    </tr>\n",
              "  </thead>\n",
              "  <tbody>\n",
              "    <tr>\n",
              "      <th>2012-01-03</th>\n",
              "      <td>300000.000000</td>\n",
              "      <td>200000.000000</td>\n",
              "      <td>400000.000000</td>\n",
              "      <td>100000.000000</td>\n",
              "    </tr>\n",
              "    <tr>\n",
              "      <th>2012-01-04</th>\n",
              "      <td>301612.236461</td>\n",
              "      <td>203864.734300</td>\n",
              "      <td>398368.223296</td>\n",
              "      <td>99150.980283</td>\n",
              "    </tr>\n",
              "    <tr>\n",
              "      <th>2012-01-05</th>\n",
              "      <td>304960.727573</td>\n",
              "      <td>203113.258186</td>\n",
              "      <td>396478.797638</td>\n",
              "      <td>99206.836843</td>\n",
              "    </tr>\n",
              "    <tr>\n",
              "      <th>2012-01-06</th>\n",
              "      <td>308148.724558</td>\n",
              "      <td>202361.782072</td>\n",
              "      <td>391926.999463</td>\n",
              "      <td>101999.664861</td>\n",
              "    </tr>\n",
              "    <tr>\n",
              "      <th>2012-01-09</th>\n",
              "      <td>307659.946988</td>\n",
              "      <td>203650.026838</td>\n",
              "      <td>389887.278583</td>\n",
              "      <td>99737.474166</td>\n",
              "    </tr>\n",
              "  </tbody>\n",
              "</table>\n",
              "</div>"
            ],
            "text/plain": [
              "                 AAPL Pos      CISCO Pos        IBM Pos       AMZN Pos\n",
              "Date                                                                  \n",
              "2012-01-03  300000.000000  200000.000000  400000.000000  100000.000000\n",
              "2012-01-04  301612.236461  203864.734300  398368.223296   99150.980283\n",
              "2012-01-05  304960.727573  203113.258186  396478.797638   99206.836843\n",
              "2012-01-06  308148.724558  202361.782072  391926.999463  101999.664861\n",
              "2012-01-09  307659.946988  203650.026838  389887.278583   99737.474166"
            ]
          },
          "metadata": {
            "tags": []
          },
          "execution_count": 18
        }
      ]
    },
    {
      "cell_type": "code",
      "metadata": {
        "id": "5Gs5bDR8FTwJ"
      },
      "source": [
        "portfolio_val['Total Pos']=portfolio_val.sum(axis=1)"
      ],
      "execution_count": null,
      "outputs": []
    },
    {
      "cell_type": "code",
      "metadata": {
        "id": "sUNa9DyIFTwK",
        "colab": {
          "base_uri": "https://localhost:8080/",
          "height": 237
        },
        "outputId": "9040e182-28b5-4038-dcb6-bc3225a48838"
      },
      "source": [
        "portfolio_val.head()"
      ],
      "execution_count": null,
      "outputs": [
        {
          "output_type": "execute_result",
          "data": {
            "text/html": [
              "<div>\n",
              "<style scoped>\n",
              "    .dataframe tbody tr th:only-of-type {\n",
              "        vertical-align: middle;\n",
              "    }\n",
              "\n",
              "    .dataframe tbody tr th {\n",
              "        vertical-align: top;\n",
              "    }\n",
              "\n",
              "    .dataframe thead th {\n",
              "        text-align: right;\n",
              "    }\n",
              "</style>\n",
              "<table border=\"1\" class=\"dataframe\">\n",
              "  <thead>\n",
              "    <tr style=\"text-align: right;\">\n",
              "      <th></th>\n",
              "      <th>AAPL Pos</th>\n",
              "      <th>CISCO Pos</th>\n",
              "      <th>IBM Pos</th>\n",
              "      <th>AMZN Pos</th>\n",
              "      <th>Total Pos</th>\n",
              "    </tr>\n",
              "    <tr>\n",
              "      <th>Date</th>\n",
              "      <th></th>\n",
              "      <th></th>\n",
              "      <th></th>\n",
              "      <th></th>\n",
              "      <th></th>\n",
              "    </tr>\n",
              "  </thead>\n",
              "  <tbody>\n",
              "    <tr>\n",
              "      <th>2012-01-03</th>\n",
              "      <td>300000.000000</td>\n",
              "      <td>200000.000000</td>\n",
              "      <td>400000.000000</td>\n",
              "      <td>100000.000000</td>\n",
              "      <td>1.000000e+06</td>\n",
              "    </tr>\n",
              "    <tr>\n",
              "      <th>2012-01-04</th>\n",
              "      <td>301612.236461</td>\n",
              "      <td>203864.734300</td>\n",
              "      <td>398368.223296</td>\n",
              "      <td>99150.980283</td>\n",
              "      <td>1.002996e+06</td>\n",
              "    </tr>\n",
              "    <tr>\n",
              "      <th>2012-01-05</th>\n",
              "      <td>304960.727573</td>\n",
              "      <td>203113.258186</td>\n",
              "      <td>396478.797638</td>\n",
              "      <td>99206.836843</td>\n",
              "      <td>1.003760e+06</td>\n",
              "    </tr>\n",
              "    <tr>\n",
              "      <th>2012-01-06</th>\n",
              "      <td>308148.724558</td>\n",
              "      <td>202361.782072</td>\n",
              "      <td>391926.999463</td>\n",
              "      <td>101999.664861</td>\n",
              "      <td>1.004437e+06</td>\n",
              "    </tr>\n",
              "    <tr>\n",
              "      <th>2012-01-09</th>\n",
              "      <td>307659.946988</td>\n",
              "      <td>203650.026838</td>\n",
              "      <td>389887.278583</td>\n",
              "      <td>99737.474166</td>\n",
              "      <td>1.000935e+06</td>\n",
              "    </tr>\n",
              "  </tbody>\n",
              "</table>\n",
              "</div>"
            ],
            "text/plain": [
              "                 AAPL Pos      CISCO Pos  ...       AMZN Pos     Total Pos\n",
              "Date                                      ...                             \n",
              "2012-01-03  300000.000000  200000.000000  ...  100000.000000  1.000000e+06\n",
              "2012-01-04  301612.236461  203864.734300  ...   99150.980283  1.002996e+06\n",
              "2012-01-05  304960.727573  203113.258186  ...   99206.836843  1.003760e+06\n",
              "2012-01-06  308148.724558  202361.782072  ...  101999.664861  1.004437e+06\n",
              "2012-01-09  307659.946988  203650.026838  ...   99737.474166  1.000935e+06\n",
              "\n",
              "[5 rows x 5 columns]"
            ]
          },
          "metadata": {
            "tags": []
          },
          "execution_count": 20
        }
      ]
    },
    {
      "cell_type": "code",
      "metadata": {
        "colab": {
          "base_uri": "https://localhost:8080/"
        },
        "id": "QdG3RPh7Yiel",
        "outputId": "8341cbb8-afce-4b10-88c9-6bba3d34f81d"
      },
      "source": [
        "portfolio_val['Total Pos'][0]"
      ],
      "execution_count": null,
      "outputs": [
        {
          "output_type": "execute_result",
          "data": {
            "text/plain": [
              "1000000.0"
            ]
          },
          "metadata": {
            "tags": []
          },
          "execution_count": 42
        }
      ]
    },
    {
      "cell_type": "code",
      "metadata": {
        "id": "u46aQGacFTwK"
      },
      "source": [
        "import matplotlib.pyplot as plt\n",
        "%matplotlib inline"
      ],
      "execution_count": null,
      "outputs": []
    },
    {
      "cell_type": "code",
      "metadata": {
        "id": "LCCbA2b1FTwK",
        "colab": {
          "base_uri": "https://localhost:8080/",
          "height": 597
        },
        "outputId": "1b3958c2-f0a3-423b-84b0-17294001b87d"
      },
      "source": [
        "portfolio_val['Total Pos'].plot(figsize=(12,10))\n",
        "plt.title('Total Portfolio Value')"
      ],
      "execution_count": null,
      "outputs": [
        {
          "output_type": "execute_result",
          "data": {
            "text/plain": [
              "Text(0.5, 1.0, 'Total Portfolio Value')"
            ]
          },
          "metadata": {
            "tags": []
          },
          "execution_count": 22
        },
        {
          "output_type": "display_data",
          "data": {
            "image/png": "[encoded data removed]",
            "text/plain": [
              "<Figure size 864x720 with 1 Axes>"
            ]
          },
          "metadata": {
            "tags": [],
            "needs_background": "light"
          }
        }
      ]
    },
    {
      "cell_type": "code",
      "metadata": {
        "id": "OJaQSlF0FTwL",
        "colab": {
          "base_uri": "https://localhost:8080/",
          "height": 298
        },
        "outputId": "f68ba8bf-609f-4934-e807-66ec6e109db9"
      },
      "source": [
        "portfolio_val.drop('Total Pos',axis=1).plot(kind='line')"
      ],
      "execution_count": null,
      "outputs": [
        {
          "output_type": "execute_result",
          "data": {
            "text/plain": [
              "<matplotlib.axes._subplots.AxesSubplot at 0x7f344fd86150>"
            ]
          },
          "metadata": {
            "tags": []
          },
          "execution_count": 23
        },
        {
          "output_type": "display_data",
          "data": {
            "image/png": "[encoded data removed]",
            "text/plain": [
              "<Figure size 432x288 with 1 Axes>"
            ]
          },
          "metadata": {
            "tags": [],
            "needs_background": "light"
          }
        }
      ]
    },
    {
      "cell_type": "markdown",
      "metadata": {
        "id": "1tki2DWcFTwL"
      },
      "source": [
        "## Portfolio Statistics"
      ]
    },
    {
      "cell_type": "markdown",
      "metadata": {
        "id": "_0SKCLT8FTwL"
      },
      "source": [
        "### Daily Returns"
      ]
    },
    {
      "cell_type": "code",
      "metadata": {
        "colab": {
          "base_uri": "https://localhost:8080/"
        },
        "id": "p8HjWxwaXPD_",
        "outputId": "67bd643e-8336-4219-baab-0c495bd1d44a"
      },
      "source": [
        "portfolio_val['Total Pos'].pct_change(1)"
      ],
      "execution_count": null,
      "outputs": [
        {
          "output_type": "execute_result",
          "data": {
            "text/plain": [
              "Date\n",
              "2012-01-03         NaN\n",
              "2012-01-04    0.002996\n",
              "2012-01-05    0.000761\n",
              "2012-01-06    0.000675\n",
              "2012-01-09   -0.003487\n",
              "                ...   \n",
              "2018-03-21   -0.008665\n",
              "2018-03-22   -0.022125\n",
              "2018-03-23   -0.023826\n",
              "2018-03-26    0.041036\n",
              "2018-03-27   -0.028314\n",
              "Name: Total Pos, Length: 1567, dtype: float64"
            ]
          },
          "metadata": {
            "tags": []
          },
          "execution_count": 33
        }
      ]
    },
    {
      "cell_type": "code",
      "metadata": {
        "id": "qzC9YpF7FTwL"
      },
      "source": [
        "portfolio_val['Daily Returns']=portfolio_val['Total Pos'].pct_change(1)\n",
        "portfolio_val"
      ],
      "execution_count": null,
      "outputs": []
    },
    {
      "cell_type": "markdown",
      "metadata": {
        "id": "Uiz8tza7FTwM"
      },
      "source": [
        "### Average Daily Return"
      ]
    },
    {
      "cell_type": "code",
      "metadata": {
        "id": "iajliP-FFTwM",
        "colab": {
          "base_uri": "https://localhost:8080/"
        },
        "outputId": "8087b02f-aa12-44a4-e81f-395cb67099b0"
      },
      "source": [
        "portfolio_val['Daily Returns'].mean()"
      ],
      "execution_count": null,
      "outputs": [
        {
          "output_type": "execute_result",
          "data": {
            "text/plain": [
              "0.0014927305900954441"
            ]
          },
          "metadata": {
            "tags": []
          },
          "execution_count": 26
        }
      ]
    },
    {
      "cell_type": "markdown",
      "metadata": {
        "id": "ENKkEfzvFTwQ"
      },
      "source": [
        "### Standard Daily Return"
      ]
    },
    {
      "cell_type": "code",
      "metadata": {
        "id": "0VgMgsJKFTwR",
        "colab": {
          "base_uri": "https://localhost:8080/",
          "height": 166
        },
        "outputId": "6bee1208-1685-4a99-fad1-c9abea84a87d"
      },
      "source": [
        "portfolio_val['Daily Returns'].std()"
      ],
      "execution_count": null,
      "outputs": [
        {
          "output_type": "error",
          "ename": "NameError",
          "evalue": "ignored",
          "traceback": [
            "\u001b[0;31m---------------------------------------------------------------------------\u001b[0m",
            "\u001b[0;31mNameError\u001b[0m                                 Traceback (most recent call last)",
            "\u001b[0;32m<ipython-input-1-9e4aa5dc455c>\u001b[0m in \u001b[0;36m<module>\u001b[0;34m()\u001b[0m\n\u001b[0;32m----> 1\u001b[0;31m \u001b[0mportfolio_val\u001b[0m\u001b[0;34m[\u001b[0m\u001b[0;34m'Daily Returns'\u001b[0m\u001b[0;34m]\u001b[0m\u001b[0;34m.\u001b[0m\u001b[0mstd\u001b[0m\u001b[0;34m(\u001b[0m\u001b[0;34m)\u001b[0m\u001b[0;34m\u001b[0m\u001b[0;34m\u001b[0m\u001b[0m\n\u001b[0m",
            "\u001b[0;31mNameError\u001b[0m: name 'portfolio_val' is not defined"
          ]
        }
      ]
    },
    {
      "cell_type": "code",
      "metadata": {
        "id": "V8Zld1OPFTwR",
        "colab": {
          "base_uri": "https://localhost:8080/",
          "height": 166
        },
        "outputId": "d0c04d20-c365-4106-aa32-f707c136d083"
      },
      "source": [
        "portfolio_val['Daily Returns'].plot(kind='kde')"
      ],
      "execution_count": null,
      "outputs": [
        {
          "output_type": "error",
          "ename": "NameError",
          "evalue": "ignored",
          "traceback": [
            "\u001b[0;31m---------------------------------------------------------------------------\u001b[0m",
            "\u001b[0;31mNameError\u001b[0m                                 Traceback (most recent call last)",
            "\u001b[0;32m<ipython-input-2-511fe3decfc7>\u001b[0m in \u001b[0;36m<module>\u001b[0;34m()\u001b[0m\n\u001b[0;32m----> 1\u001b[0;31m \u001b[0mportfolio_val\u001b[0m\u001b[0;34m[\u001b[0m\u001b[0;34m'Daily Returns'\u001b[0m\u001b[0;34m]\u001b[0m\u001b[0;34m.\u001b[0m\u001b[0mplot\u001b[0m\u001b[0;34m(\u001b[0m\u001b[0mkind\u001b[0m\u001b[0;34m=\u001b[0m\u001b[0;34m'kde'\u001b[0m\u001b[0;34m)\u001b[0m\u001b[0;34m\u001b[0m\u001b[0;34m\u001b[0m\u001b[0m\n\u001b[0m",
            "\u001b[0;31mNameError\u001b[0m: name 'portfolio_val' is not defined"
          ]
        }
      ]
    },
    {
      "cell_type": "markdown",
      "metadata": {
        "id": "_9ARGK5HFTwR"
      },
      "source": [
        "# Sharpe Ratio\n",
        "\n",
        "The Sharpe Ratio is a measure for calculating risk-adjusted return, and this ratio has become the industry standard for such calculations. \n",
        "\n",
        "Sharpe ratio = (Mean portfolio return − Risk-free rate)/Standard deviation of portfolio return\n",
        "\n",
        "The original Sharpe Ratio\n",
        "\n",
        "Annualized Sharpe Ratio = K-value * SR\n",
        "\n",
        "K-values for various sampling rates:\n",
        "\n",
        "* Daily = sqrt(252)\n",
        "* Weekly = sqrt(52)\n",
        "* Monthly = sqrt(12)\n",
        "\n",
        "Since I'm based in the USA, I will use a very low risk-free rate (the rate you would get if you just put your money in a bank, its currently very low in the USA, let's just say its ~0% return). If you are in a different country with higher rates for your trading currency, you can use this trick to convert a yearly rate with a daily rate:\n",
        "\n",
        "daily_rate = ((1.0 + yearly_rate)**(1/252))-1\n",
        "\n"
      ]
    },
    {
      "cell_type": "code",
      "metadata": {
        "id": "K7KPzvKdFTwS",
        "colab": {
          "base_uri": "https://localhost:8080/"
        },
        "outputId": "9f062f55-4dc7-4f29-9dfa-fa9bcbed305b"
      },
      "source": [
        "SR=portfolio_val['Daily Returns'].mean()/portfolio_val['Daily Returns'].std()\n",
        "SR"
      ],
      "execution_count": null,
      "outputs": [
        {
          "output_type": "execute_result",
          "data": {
            "text/plain": [
              "0.028634670930524762"
            ]
          },
          "metadata": {
            "tags": []
          },
          "execution_count": 29
        }
      ]
    },
    {
      "cell_type": "code",
      "metadata": {
        "id": "LyFo6lIIFTwS",
        "colab": {
          "base_uri": "https://localhost:8080/"
        },
        "outputId": "fa426884-5930-4174-fcd9-c135abf37b18"
      },
      "source": [
        "ASR=(252**0.5)*SR\n",
        "ASR"
      ],
      "execution_count": null,
      "outputs": [
        {
          "output_type": "execute_result",
          "data": {
            "text/plain": [
              "0.4545613089380341"
            ]
          },
          "metadata": {
            "tags": []
          },
          "execution_count": 30
        }
      ]
    },
    {
      "cell_type": "code",
      "metadata": {
        "id": "-dQC5u5JFTwT",
        "colab": {
          "base_uri": "https://localhost:8080/",
          "height": 283
        },
        "outputId": "41d4f193-72d9-4640-afdf-a332a1f5a05f"
      },
      "source": [
        "aapl['Adj. Close'].pct_change(1).plot(kind='kde')\n",
        "ibm['Adj. Close'].pct_change(1).plot(kind='kde')\n",
        "amzn['Adj. Close'].pct_change(1).plot(kind='kde')\n",
        "cisco['Adj. Close'].pct_change(1).plot(kind='kde')"
      ],
      "execution_count": null,
      "outputs": [
        {
          "output_type": "execute_result",
          "data": {
            "text/plain": [
              "<matplotlib.axes._subplots.AxesSubplot at 0x7f343fdd8d90>"
            ]
          },
          "metadata": {
            "tags": []
          },
          "execution_count": 31
        },
        {
          "output_type": "display_data",
          "data": {
            "image/png": "[encoded data removed]",
            "text/plain": [
              "<Figure size 432x288 with 1 Axes>"
            ]
          },
          "metadata": {
            "tags": [],
            "needs_background": "light"
          }
        }
      ]
    },
    {
      "cell_type": "code",
      "metadata": {
        "id": "LZ6v0awqFTwT",
        "colab": {
          "base_uri": "https://localhost:8080/"
        },
        "outputId": "d238f48d-57e0-4b08-bb90-fe5793b0f5e2"
      },
      "source": [
        "import numpy as np                              \n",
        "np.sqrt(252)*(np.mean(0.001-0.0002)/0.001)"
      ],
      "execution_count": null,
      "outputs": [
        {
          "output_type": "execute_result",
          "data": {
            "text/plain": [
              "12.699606293110037"
            ]
          },
          "metadata": {
            "tags": []
          },
          "execution_count": 32
        }
      ]
    }
  ]
}