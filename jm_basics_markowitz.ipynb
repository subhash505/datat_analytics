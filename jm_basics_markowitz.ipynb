{
  "nbformat": 4,
  "nbformat_minor": 0,
  "metadata": {
    "colab": {
      "name": "jm-basics_markowitz.ipynb",
      "provenance": [],
      "include_colab_link": true
    },
    "kernelspec": {
      "name": "python3",
      "display_name": "Python 3"
    }
  },
  "cells": [
    {
      "cell_type": "markdown",
      "metadata": {
        "id": "view-in-github",
        "colab_type": "text"
      },
      "source": [
        "<a href=\"https://colab.research.google.com/github/subhash505/datat_analytics/blob/main/jm_basics_markowitz.ipynb\" target=\"_parent\"><img src=\"https://colab.research.google.com/assets/colab-badge.svg\" alt=\"Open In Colab\"/></a>"
      ]
    },
    {
      "cell_type": "code",
      "metadata": {
        "id": "busXTNdyapWr"
      },
      "source": [
        "import numpy as np  \n",
        "from pandas_datareader import data as dr \n",
        "import pandas as pd\n",
        "import matplotlib.pyplot as plt"
      ],
      "execution_count": null,
      "outputs": []
    },
    {
      "cell_type": "code",
      "metadata": {
        "colab": {
          "base_uri": "https://localhost:8080/"
        },
        "id": "NYy_-dnbevM6",
        "outputId": "1a1a5010-2536-4fb4-f4ac-70229f30b383"
      },
      "source": [
        "pip install --upgrade pandas-datareader"
      ],
      "execution_count": null,
      "outputs": [
        {
          "output_type": "stream",
          "text": [
            "Requirement already satisfied: pandas-datareader in /usr/local/lib/python3.7/dist-packages (0.10.0)\n",
            "Requirement already satisfied: lxml in /usr/local/lib/python3.7/dist-packages (from pandas-datareader) (4.2.6)\n",
            "Requirement already satisfied: requests>=2.19.0 in /usr/local/lib/python3.7/dist-packages (from pandas-datareader) (2.23.0)\n",
            "Requirement already satisfied: pandas>=0.23 in /usr/local/lib/python3.7/dist-packages (from pandas-datareader) (1.1.5)\n",
            "Requirement already satisfied: numpy>=1.15.4 in /usr/local/lib/python3.7/dist-packages (from pandas>=0.23->pandas-datareader) (1.19.5)\n",
            "Requirement already satisfied: python-dateutil>=2.7.3 in /usr/local/lib/python3.7/dist-packages (from pandas>=0.23->pandas-datareader) (2.8.1)\n",
            "Requirement already satisfied: pytz>=2017.2 in /usr/local/lib/python3.7/dist-packages (from pandas>=0.23->pandas-datareader) (2018.9)\n",
            "Requirement already satisfied: six>=1.5 in /usr/local/lib/python3.7/dist-packages (from python-dateutil>=2.7.3->pandas>=0.23->pandas-datareader) (1.15.0)\n",
            "Requirement already satisfied: urllib3!=1.25.0,!=1.25.1,<1.26,>=1.21.1 in /usr/local/lib/python3.7/dist-packages (from requests>=2.19.0->pandas-datareader) (1.24.3)\n",
            "Requirement already satisfied: certifi>=2017.4.17 in /usr/local/lib/python3.7/dist-packages (from requests>=2.19.0->pandas-datareader) (2021.5.30)\n",
            "Requirement already satisfied: chardet<4,>=3.0.2 in /usr/local/lib/python3.7/dist-packages (from requests>=2.19.0->pandas-datareader) (3.0.4)\n",
            "Requirement already satisfied: idna<3,>=2.5 in /usr/local/lib/python3.7/dist-packages (from requests>=2.19.0->pandas-datareader) (2.10)\n"
          ],
          "name": "stdout"
        }
      ]
    },
    {
      "cell_type": "markdown",
      "metadata": {
        "id": "HmS0gL2UetSv"
      },
      "source": [
        "# Simple Rate of Return\n"
      ]
    },
    {
      "cell_type": "code",
      "metadata": {
        "id": "X-J7NutMa9Zb"
      },
      "source": [
        "#Importing the data\n",
        "PG = dr.DataReader('PG', data_source='yahoo', start='1995-1-1',end='2020-1-1')      "
      ],
      "execution_count": null,
      "outputs": []
    },
    {
      "cell_type": "code",
      "metadata": {
        "colab": {
          "base_uri": "https://localhost:8080/",
          "height": 237
        },
        "id": "cbqFVd3Qa_jq",
        "outputId": "3bdeed55-3714-4796-fb87-9823c8b8567b"
      },
      "source": [
        "#Displaying the head of the dataframe PG. head() displays first 5 rows by default. \n",
        "PG.head()"
      ],
      "execution_count": null,
      "outputs": [
        {
          "output_type": "execute_result",
          "data": {
            "text/html": [
              "<div>\n",
              "<style scoped>\n",
              "    .dataframe tbody tr th:only-of-type {\n",
              "        vertical-align: middle;\n",
              "    }\n",
              "\n",
              "    .dataframe tbody tr th {\n",
              "        vertical-align: top;\n",
              "    }\n",
              "\n",
              "    .dataframe thead th {\n",
              "        text-align: right;\n",
              "    }\n",
              "</style>\n",
              "<table border=\"1\" class=\"dataframe\">\n",
              "  <thead>\n",
              "    <tr style=\"text-align: right;\">\n",
              "      <th></th>\n",
              "      <th>High</th>\n",
              "      <th>Low</th>\n",
              "      <th>Open</th>\n",
              "      <th>Close</th>\n",
              "      <th>Volume</th>\n",
              "      <th>Adj Close</th>\n",
              "    </tr>\n",
              "    <tr>\n",
              "      <th>Date</th>\n",
              "      <th></th>\n",
              "      <th></th>\n",
              "      <th></th>\n",
              "      <th></th>\n",
              "      <th></th>\n",
              "      <th></th>\n",
              "    </tr>\n",
              "  </thead>\n",
              "  <tbody>\n",
              "    <tr>\n",
              "      <th>1995-01-03</th>\n",
              "      <td>15.62500</td>\n",
              "      <td>15.43750</td>\n",
              "      <td>15.46875</td>\n",
              "      <td>15.59375</td>\n",
              "      <td>3318400.0</td>\n",
              "      <td>8.063840</td>\n",
              "    </tr>\n",
              "    <tr>\n",
              "      <th>1995-01-04</th>\n",
              "      <td>15.65625</td>\n",
              "      <td>15.31250</td>\n",
              "      <td>15.53125</td>\n",
              "      <td>15.46875</td>\n",
              "      <td>2218800.0</td>\n",
              "      <td>7.999201</td>\n",
              "    </tr>\n",
              "    <tr>\n",
              "      <th>1995-01-05</th>\n",
              "      <td>15.43750</td>\n",
              "      <td>15.21875</td>\n",
              "      <td>15.37500</td>\n",
              "      <td>15.25000</td>\n",
              "      <td>2319600.0</td>\n",
              "      <td>7.886079</td>\n",
              "    </tr>\n",
              "    <tr>\n",
              "      <th>1995-01-06</th>\n",
              "      <td>15.40625</td>\n",
              "      <td>15.15625</td>\n",
              "      <td>15.15625</td>\n",
              "      <td>15.28125</td>\n",
              "      <td>3438000.0</td>\n",
              "      <td>7.902242</td>\n",
              "    </tr>\n",
              "    <tr>\n",
              "      <th>1995-01-09</th>\n",
              "      <td>15.40625</td>\n",
              "      <td>15.18750</td>\n",
              "      <td>15.34375</td>\n",
              "      <td>15.21875</td>\n",
              "      <td>1795200.0</td>\n",
              "      <td>7.869921</td>\n",
              "    </tr>\n",
              "  </tbody>\n",
              "</table>\n",
              "</div>"
            ],
            "text/plain": [
              "                High       Low      Open     Close     Volume  Adj Close\n",
              "Date                                                                    \n",
              "1995-01-03  15.62500  15.43750  15.46875  15.59375  3318400.0   8.063840\n",
              "1995-01-04  15.65625  15.31250  15.53125  15.46875  2218800.0   7.999201\n",
              "1995-01-05  15.43750  15.21875  15.37500  15.25000  2319600.0   7.886079\n",
              "1995-01-06  15.40625  15.15625  15.15625  15.28125  3438000.0   7.902242\n",
              "1995-01-09  15.40625  15.18750  15.34375  15.21875  1795200.0   7.869921"
            ]
          },
          "metadata": {
            "tags": []
          },
          "execution_count": 6
        }
      ]
    },
    {
      "cell_type": "code",
      "metadata": {
        "colab": {
          "base_uri": "https://localhost:8080/",
          "height": 237
        },
        "id": "_jyxX7i4bBxK",
        "outputId": "316488a1-fc2c-42fe-8977-7291490b26b5"
      },
      "source": [
        "#Displaying the tail of the dataframe PG. tail() displays last 5 rows by default.\n",
        "PG.tail()"
      ],
      "execution_count": null,
      "outputs": [
        {
          "output_type": "execute_result",
          "data": {
            "text/html": [
              "<div>\n",
              "<style scoped>\n",
              "    .dataframe tbody tr th:only-of-type {\n",
              "        vertical-align: middle;\n",
              "    }\n",
              "\n",
              "    .dataframe tbody tr th {\n",
              "        vertical-align: top;\n",
              "    }\n",
              "\n",
              "    .dataframe thead th {\n",
              "        text-align: right;\n",
              "    }\n",
              "</style>\n",
              "<table border=\"1\" class=\"dataframe\">\n",
              "  <thead>\n",
              "    <tr style=\"text-align: right;\">\n",
              "      <th></th>\n",
              "      <th>High</th>\n",
              "      <th>Low</th>\n",
              "      <th>Open</th>\n",
              "      <th>Close</th>\n",
              "      <th>Volume</th>\n",
              "      <th>Adj Close</th>\n",
              "    </tr>\n",
              "    <tr>\n",
              "      <th>Date</th>\n",
              "      <th></th>\n",
              "      <th></th>\n",
              "      <th></th>\n",
              "      <th></th>\n",
              "      <th></th>\n",
              "      <th></th>\n",
              "    </tr>\n",
              "  </thead>\n",
              "  <tbody>\n",
              "    <tr>\n",
              "      <th>2019-12-24</th>\n",
              "      <td>125.309998</td>\n",
              "      <td>124.580002</td>\n",
              "      <td>124.790001</td>\n",
              "      <td>125.220001</td>\n",
              "      <td>2022100.0</td>\n",
              "      <td>119.942581</td>\n",
              "    </tr>\n",
              "    <tr>\n",
              "      <th>2019-12-26</th>\n",
              "      <td>125.750000</td>\n",
              "      <td>124.870003</td>\n",
              "      <td>125.099998</td>\n",
              "      <td>125.220001</td>\n",
              "      <td>4760400.0</td>\n",
              "      <td>119.942581</td>\n",
              "    </tr>\n",
              "    <tr>\n",
              "      <th>2019-12-27</th>\n",
              "      <td>126.300003</td>\n",
              "      <td>125.389999</td>\n",
              "      <td>125.559998</td>\n",
              "      <td>126.089996</td>\n",
              "      <td>5192000.0</td>\n",
              "      <td>120.775909</td>\n",
              "    </tr>\n",
              "    <tr>\n",
              "      <th>2019-12-30</th>\n",
              "      <td>125.980003</td>\n",
              "      <td>124.139999</td>\n",
              "      <td>125.760002</td>\n",
              "      <td>124.470001</td>\n",
              "      <td>3884300.0</td>\n",
              "      <td>119.224174</td>\n",
              "    </tr>\n",
              "    <tr>\n",
              "      <th>2019-12-31</th>\n",
              "      <td>124.989998</td>\n",
              "      <td>123.949997</td>\n",
              "      <td>124.430000</td>\n",
              "      <td>124.900002</td>\n",
              "      <td>4798900.0</td>\n",
              "      <td>119.636070</td>\n",
              "    </tr>\n",
              "  </tbody>\n",
              "</table>\n",
              "</div>"
            ],
            "text/plain": [
              "                  High         Low  ...     Volume   Adj Close\n",
              "Date                                ...                       \n",
              "2019-12-24  125.309998  124.580002  ...  2022100.0  119.942581\n",
              "2019-12-26  125.750000  124.870003  ...  4760400.0  119.942581\n",
              "2019-12-27  126.300003  125.389999  ...  5192000.0  120.775909\n",
              "2019-12-30  125.980003  124.139999  ...  3884300.0  119.224174\n",
              "2019-12-31  124.989998  123.949997  ...  4798900.0  119.636070\n",
              "\n",
              "[5 rows x 6 columns]"
            ]
          },
          "metadata": {
            "tags": []
          },
          "execution_count": 7
        }
      ]
    },
    {
      "cell_type": "code",
      "metadata": {
        "colab": {
          "base_uri": "https://localhost:8080/"
        },
        "id": "pwjISEYRfywz",
        "outputId": "7c3e5a8f-4350-4c4b-e528-9afd41ad5a4f"
      },
      "source": [
        "PG['Adj Close'].head()"
      ],
      "execution_count": null,
      "outputs": [
        {
          "output_type": "execute_result",
          "data": {
            "text/plain": [
              "Date\n",
              "1995-01-03    8.063840\n",
              "1995-01-04    7.999201\n",
              "1995-01-05    7.886079\n",
              "1995-01-06    7.902242\n",
              "1995-01-09    7.869921\n",
              "Name: Adj Close, dtype: float64"
            ]
          },
          "metadata": {
            "tags": []
          },
          "execution_count": 8
        }
      ]
    },
    {
      "cell_type": "code",
      "metadata": {
        "colab": {
          "base_uri": "https://localhost:8080/"
        },
        "id": "YsnsLKuFf2ZF",
        "outputId": "d19968e5-b419-4476-cb63-43ff69164924"
      },
      "source": [
        "PG['Adj Close'].shift(1).head()"
      ],
      "execution_count": null,
      "outputs": [
        {
          "output_type": "execute_result",
          "data": {
            "text/plain": [
              "Date\n",
              "1995-01-03         NaN\n",
              "1995-01-04    8.063840\n",
              "1995-01-05    7.999201\n",
              "1995-01-06    7.886079\n",
              "1995-01-09    7.902242\n",
              "Name: Adj Close, dtype: float64"
            ]
          },
          "metadata": {
            "tags": []
          },
          "execution_count": 9
        }
      ]
    },
    {
      "cell_type": "code",
      "metadata": {
        "colab": {
          "base_uri": "https://localhost:8080/"
        },
        "id": "ONDqVaTZgAQZ",
        "outputId": "a8c9e17c-0d50-4321-a1a1-a07f30d76fa7"
      },
      "source": [
        "PG['Adj Close']/PG['Adj Close'].shift(1).head()"
      ],
      "execution_count": null,
      "outputs": [
        {
          "output_type": "execute_result",
          "data": {
            "text/plain": [
              "Date\n",
              "1995-01-03         NaN\n",
              "1995-01-04    0.991984\n",
              "1995-01-05    0.985858\n",
              "1995-01-06    1.002050\n",
              "1995-01-09    0.995910\n",
              "                ...   \n",
              "2019-12-24         NaN\n",
              "2019-12-26         NaN\n",
              "2019-12-27         NaN\n",
              "2019-12-30         NaN\n",
              "2019-12-31         NaN\n",
              "Name: Adj Close, Length: 6294, dtype: float64"
            ]
          },
          "metadata": {
            "tags": []
          },
          "execution_count": 10
        }
      ]
    },
    {
      "cell_type": "markdown",
      "metadata": {
        "id": "tJ_P8BJQg0gm"
      },
      "source": [
        "![image.png](data:image/png;base64,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)"
      ]
    },
    {
      "cell_type": "code",
      "metadata": {
        "colab": {
          "base_uri": "https://localhost:8080/"
        },
        "id": "3yiVvZwSbMyw",
        "outputId": "34d9d23a-6b80-4ea4-bedd-ce969b54e08a"
      },
      "source": [
        "PG['Simple Return'] = (PG['Adj Close']/PG['Adj Close'].shift(1))-1  \n",
        "\n",
        "print(PG['Simple Return'])"
      ],
      "execution_count": null,
      "outputs": [
        {
          "output_type": "stream",
          "text": [
            "Date\n",
            "1995-01-03         NaN\n",
            "1995-01-04   -0.008016\n",
            "1995-01-05   -0.014142\n",
            "1995-01-06    0.002050\n",
            "1995-01-09   -0.004090\n",
            "                ...   \n",
            "2019-12-24    0.002562\n",
            "2019-12-26    0.000000\n",
            "2019-12-27    0.006948\n",
            "2019-12-30   -0.012848\n",
            "2019-12-31    0.003455\n",
            "Name: Simple Return, Length: 6294, dtype: float64\n"
          ],
          "name": "stdout"
        }
      ]
    },
    {
      "cell_type": "code",
      "metadata": {
        "colab": {
          "base_uri": "https://localhost:8080/"
        },
        "id": "Vu4ypa3ZbvyD",
        "outputId": "eb8f19ba-042e-4bab-8989-bb82fd1849e5"
      },
      "source": [
        "daily_avg_returns = PG['Simple Return'].mean() # stocks return daily\n",
        "daily_avg_returns"
      ],
      "execution_count": null,
      "outputs": [
        {
          "output_type": "execute_result",
          "data": {
            "text/plain": [
              "0.0005268564911291957"
            ]
          },
          "metadata": {
            "tags": []
          },
          "execution_count": 12
        }
      ]
    },
    {
      "cell_type": "code",
      "metadata": {
        "colab": {
          "base_uri": "https://localhost:8080/"
        },
        "id": "-0FTiKJsbyGT",
        "outputId": "1a90c66f-ddbb-43d2-cfc5-ad6fc053d0db"
      },
      "source": [
        "annual_avg_returns = PG['Simple Return'].mean() * 250\n",
        "annual_avg_returns"
      ],
      "execution_count": null,
      "outputs": [
        {
          "output_type": "execute_result",
          "data": {
            "text/plain": [
              "0.13171412278229894"
            ]
          },
          "metadata": {
            "tags": []
          },
          "execution_count": 13
        }
      ]
    },
    {
      "cell_type": "markdown",
      "metadata": {
        "id": "9D7FKGIccBDa"
      },
      "source": [
        "# Log Returns using Python"
      ]
    },
    {
      "cell_type": "markdown",
      "metadata": {
        "id": "RbMyDQGHiNMh"
      },
      "source": [
        "![image.png](data:image/png;base64,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)"
      ]
    },
    {
      "cell_type": "code",
      "metadata": {
        "colab": {
          "base_uri": "https://localhost:8080/"
        },
        "id": "42GELZv_cBUh",
        "outputId": "20abbcbe-546f-4e5b-ec52-4a67a263038a"
      },
      "source": [
        "PG['Log Return'] = np.log(PG['Adj Close']/PG['Adj Close'].shift(1))\n",
        "\n",
        "#print() function prints the value inside it on the console.\n",
        "print(PG['Log Return']) "
      ],
      "execution_count": null,
      "outputs": [
        {
          "output_type": "stream",
          "text": [
            "Date\n",
            "1995-01-03         NaN\n",
            "1995-01-04   -0.008048\n",
            "1995-01-05   -0.014243\n",
            "1995-01-06    0.002047\n",
            "1995-01-09   -0.004098\n",
            "                ...   \n",
            "2019-12-24    0.002559\n",
            "2019-12-26    0.000000\n",
            "2019-12-27    0.006924\n",
            "2019-12-30   -0.012931\n",
            "2019-12-31    0.003449\n",
            "Name: Log Return, Length: 6294, dtype: float64\n"
          ],
          "name": "stdout"
        }
      ]
    },
    {
      "cell_type": "code",
      "metadata": {
        "colab": {
          "base_uri": "https://localhost:8080/"
        },
        "id": "nWMNKbIecLiw",
        "outputId": "49ba6315-db10-4ab8-e4d3-e5f3e6f09064"
      },
      "source": [
        "daily_log_returns = PG['Log Return'].mean()\n",
        "daily_log_returns"
      ],
      "execution_count": null,
      "outputs": [
        {
          "output_type": "execute_result",
          "data": {
            "text/plain": [
              "0.00042858168246904073"
            ]
          },
          "metadata": {
            "tags": []
          },
          "execution_count": 15
        }
      ]
    },
    {
      "cell_type": "code",
      "metadata": {
        "colab": {
          "base_uri": "https://localhost:8080/"
        },
        "id": "s4_Tz400cQQo",
        "outputId": "57443204-f1a6-4638-874c-7d6df6e84d16"
      },
      "source": [
        "annual_log_returns = PG['Log Return'].mean() * 250\n",
        "annual_log_returns"
      ],
      "execution_count": null,
      "outputs": [
        {
          "output_type": "execute_result",
          "data": {
            "text/plain": [
              "0.10714542061726018"
            ]
          },
          "metadata": {
            "tags": []
          },
          "execution_count": 16
        }
      ]
    },
    {
      "cell_type": "markdown",
      "metadata": {
        "id": "Bp1bMNN-ineA"
      },
      "source": [
        "# Expected Return of a Portfolio"
      ]
    },
    {
      "cell_type": "code",
      "metadata": {
        "id": "iXfnmaRYinGn"
      },
      "source": [
        "assets = ['PG', 'MSFT', 'GE']\n",
        "assetsAdjClose = pd.DataFrame()\n",
        "for a in assets:\n",
        "    assetsAdjClose[a] = dr.DataReader(a, data_source='yahoo', start='1995-1-1')['Adj Close']"
      ],
      "execution_count": null,
      "outputs": []
    },
    {
      "cell_type": "code",
      "metadata": {
        "colab": {
          "base_uri": "https://localhost:8080/"
        },
        "id": "YIUVdIaajAwV",
        "outputId": "b6394e60-ead2-4b2d-b244-b53b48291f50"
      },
      "source": [
        "assetsAdjClose.info() "
      ],
      "execution_count": null,
      "outputs": [
        {
          "output_type": "stream",
          "text": [
            "<class 'pandas.core.frame.DataFrame'>\n",
            "DatetimeIndex: 6688 entries, 1995-01-03 to 2021-07-26\n",
            "Data columns (total 3 columns):\n",
            " #   Column  Non-Null Count  Dtype  \n",
            "---  ------  --------------  -----  \n",
            " 0   PG      6688 non-null   float64\n",
            " 1   MSFT    6688 non-null   float64\n",
            " 2   GE      6688 non-null   float64\n",
            "dtypes: float64(3)\n",
            "memory usage: 209.0 KB\n"
          ],
          "name": "stdout"
        }
      ]
    },
    {
      "cell_type": "code",
      "metadata": {
        "colab": {
          "base_uri": "https://localhost:8080/",
          "height": 237
        },
        "id": "u86SVZEljQxt",
        "outputId": "adfd7a04-5e93-4e37-db5d-09cc281d7828"
      },
      "source": [
        "assetsAdjClose.head() "
      ],
      "execution_count": null,
      "outputs": [
        {
          "output_type": "execute_result",
          "data": {
            "text/html": [
              "<div>\n",
              "<style scoped>\n",
              "    .dataframe tbody tr th:only-of-type {\n",
              "        vertical-align: middle;\n",
              "    }\n",
              "\n",
              "    .dataframe tbody tr th {\n",
              "        vertical-align: top;\n",
              "    }\n",
              "\n",
              "    .dataframe thead th {\n",
              "        text-align: right;\n",
              "    }\n",
              "</style>\n",
              "<table border=\"1\" class=\"dataframe\">\n",
              "  <thead>\n",
              "    <tr style=\"text-align: right;\">\n",
              "      <th></th>\n",
              "      <th>PG</th>\n",
              "      <th>MSFT</th>\n",
              "      <th>GE</th>\n",
              "    </tr>\n",
              "    <tr>\n",
              "      <th>Date</th>\n",
              "      <th></th>\n",
              "      <th></th>\n",
              "      <th></th>\n",
              "    </tr>\n",
              "  </thead>\n",
              "  <tbody>\n",
              "    <tr>\n",
              "      <th>1995-01-03</th>\n",
              "      <td>8.063840</td>\n",
              "      <td>2.383754</td>\n",
              "      <td>4.116460</td>\n",
              "    </tr>\n",
              "    <tr>\n",
              "      <th>1995-01-04</th>\n",
              "      <td>7.999201</td>\n",
              "      <td>2.401081</td>\n",
              "      <td>4.116460</td>\n",
              "    </tr>\n",
              "    <tr>\n",
              "      <th>1995-01-05</th>\n",
              "      <td>7.886079</td>\n",
              "      <td>2.361476</td>\n",
              "      <td>4.126550</td>\n",
              "    </tr>\n",
              "    <tr>\n",
              "      <th>1995-01-06</th>\n",
              "      <td>7.902242</td>\n",
              "      <td>2.401081</td>\n",
              "      <td>4.106370</td>\n",
              "    </tr>\n",
              "    <tr>\n",
              "      <th>1995-01-09</th>\n",
              "      <td>7.869921</td>\n",
              "      <td>2.386229</td>\n",
              "      <td>4.066014</td>\n",
              "    </tr>\n",
              "  </tbody>\n",
              "</table>\n",
              "</div>"
            ],
            "text/plain": [
              "                  PG      MSFT        GE\n",
              "Date                                    \n",
              "1995-01-03  8.063840  2.383754  4.116460\n",
              "1995-01-04  7.999201  2.401081  4.116460\n",
              "1995-01-05  7.886079  2.361476  4.126550\n",
              "1995-01-06  7.902242  2.401081  4.106370\n",
              "1995-01-09  7.869921  2.386229  4.066014"
            ]
          },
          "metadata": {
            "tags": []
          },
          "execution_count": 19
        }
      ]
    },
    {
      "cell_type": "code",
      "metadata": {
        "colab": {
          "base_uri": "https://localhost:8080/",
          "height": 237
        },
        "id": "z6Ik4w3JjTHz",
        "outputId": "087c1856-9d0b-4458-f440-a6c86bed4d21"
      },
      "source": [
        "assetsAdjClose.tail() "
      ],
      "execution_count": null,
      "outputs": [
        {
          "output_type": "execute_result",
          "data": {
            "text/html": [
              "<div>\n",
              "<style scoped>\n",
              "    .dataframe tbody tr th:only-of-type {\n",
              "        vertical-align: middle;\n",
              "    }\n",
              "\n",
              "    .dataframe tbody tr th {\n",
              "        vertical-align: top;\n",
              "    }\n",
              "\n",
              "    .dataframe thead th {\n",
              "        text-align: right;\n",
              "    }\n",
              "</style>\n",
              "<table border=\"1\" class=\"dataframe\">\n",
              "  <thead>\n",
              "    <tr style=\"text-align: right;\">\n",
              "      <th></th>\n",
              "      <th>PG</th>\n",
              "      <th>MSFT</th>\n",
              "      <th>GE</th>\n",
              "    </tr>\n",
              "    <tr>\n",
              "      <th>Date</th>\n",
              "      <th></th>\n",
              "      <th></th>\n",
              "      <th></th>\n",
              "    </tr>\n",
              "  </thead>\n",
              "  <tbody>\n",
              "    <tr>\n",
              "      <th>2021-07-20</th>\n",
              "      <td>138.816940</td>\n",
              "      <td>279.320007</td>\n",
              "      <td>12.70</td>\n",
              "    </tr>\n",
              "    <tr>\n",
              "      <th>2021-07-21</th>\n",
              "      <td>138.329987</td>\n",
              "      <td>281.399994</td>\n",
              "      <td>13.08</td>\n",
              "    </tr>\n",
              "    <tr>\n",
              "      <th>2021-07-22</th>\n",
              "      <td>137.800003</td>\n",
              "      <td>286.140015</td>\n",
              "      <td>12.70</td>\n",
              "    </tr>\n",
              "    <tr>\n",
              "      <th>2021-07-23</th>\n",
              "      <td>139.789993</td>\n",
              "      <td>289.670013</td>\n",
              "      <td>12.71</td>\n",
              "    </tr>\n",
              "    <tr>\n",
              "      <th>2021-07-26</th>\n",
              "      <td>140.279999</td>\n",
              "      <td>289.049988</td>\n",
              "      <td>12.92</td>\n",
              "    </tr>\n",
              "  </tbody>\n",
              "</table>\n",
              "</div>"
            ],
            "text/plain": [
              "                    PG        MSFT     GE\n",
              "Date                                     \n",
              "2021-07-20  138.816940  279.320007  12.70\n",
              "2021-07-21  138.329987  281.399994  13.08\n",
              "2021-07-22  137.800003  286.140015  12.70\n",
              "2021-07-23  139.789993  289.670013  12.71\n",
              "2021-07-26  140.279999  289.049988  12.92"
            ]
          },
          "metadata": {
            "tags": []
          },
          "execution_count": 20
        }
      ]
    },
    {
      "cell_type": "code",
      "metadata": {
        "colab": {
          "base_uri": "https://localhost:8080/"
        },
        "id": "BB3zErYckC7O",
        "outputId": "7f357901-430d-49ff-fb75-731ddafc3455"
      },
      "source": [
        "assetsAdjClose.iloc[0]       #Gives the first row figures of the dataframe."
      ],
      "execution_count": null,
      "outputs": [
        {
          "output_type": "execute_result",
          "data": {
            "text/plain": [
              "PG      8.063840\n",
              "MSFT    2.383754\n",
              "GE      4.116460\n",
              "Name: 1995-01-03 00:00:00, dtype: float64"
            ]
          },
          "metadata": {
            "tags": []
          },
          "execution_count": 21
        }
      ]
    },
    {
      "cell_type": "code",
      "metadata": {
        "colab": {
          "base_uri": "https://localhost:8080/",
          "height": 237
        },
        "id": "hcUHWJPqkT6s",
        "outputId": "2ef2f2b8-9e59-4e72-a098-ecd5a18b134e"
      },
      "source": [
        "returns = (assetsAdjClose/assetsAdjClose.shift(1)) - 1       #calculating simple rate of return\n",
        "returns.head()       #displaying first 5 rows of returns dataframe"
      ],
      "execution_count": null,
      "outputs": [
        {
          "output_type": "execute_result",
          "data": {
            "text/html": [
              "<div>\n",
              "<style scoped>\n",
              "    .dataframe tbody tr th:only-of-type {\n",
              "        vertical-align: middle;\n",
              "    }\n",
              "\n",
              "    .dataframe tbody tr th {\n",
              "        vertical-align: top;\n",
              "    }\n",
              "\n",
              "    .dataframe thead th {\n",
              "        text-align: right;\n",
              "    }\n",
              "</style>\n",
              "<table border=\"1\" class=\"dataframe\">\n",
              "  <thead>\n",
              "    <tr style=\"text-align: right;\">\n",
              "      <th></th>\n",
              "      <th>PG</th>\n",
              "      <th>MSFT</th>\n",
              "      <th>GE</th>\n",
              "    </tr>\n",
              "    <tr>\n",
              "      <th>Date</th>\n",
              "      <th></th>\n",
              "      <th></th>\n",
              "      <th></th>\n",
              "    </tr>\n",
              "  </thead>\n",
              "  <tbody>\n",
              "    <tr>\n",
              "      <th>1995-01-03</th>\n",
              "      <td>NaN</td>\n",
              "      <td>NaN</td>\n",
              "      <td>NaN</td>\n",
              "    </tr>\n",
              "    <tr>\n",
              "      <th>1995-01-04</th>\n",
              "      <td>-0.008016</td>\n",
              "      <td>0.007269</td>\n",
              "      <td>0.000000</td>\n",
              "    </tr>\n",
              "    <tr>\n",
              "      <th>1995-01-05</th>\n",
              "      <td>-0.014142</td>\n",
              "      <td>-0.016495</td>\n",
              "      <td>0.002451</td>\n",
              "    </tr>\n",
              "    <tr>\n",
              "      <th>1995-01-06</th>\n",
              "      <td>0.002050</td>\n",
              "      <td>0.016771</td>\n",
              "      <td>-0.004890</td>\n",
              "    </tr>\n",
              "    <tr>\n",
              "      <th>1995-01-09</th>\n",
              "      <td>-0.004090</td>\n",
              "      <td>-0.006186</td>\n",
              "      <td>-0.009828</td>\n",
              "    </tr>\n",
              "  </tbody>\n",
              "</table>\n",
              "</div>"
            ],
            "text/plain": [
              "                  PG      MSFT        GE\n",
              "Date                                    \n",
              "1995-01-03       NaN       NaN       NaN\n",
              "1995-01-04 -0.008016  0.007269  0.000000\n",
              "1995-01-05 -0.014142 -0.016495  0.002451\n",
              "1995-01-06  0.002050  0.016771 -0.004890\n",
              "1995-01-09 -0.004090 -0.006186 -0.009828"
            ]
          },
          "metadata": {
            "tags": []
          },
          "execution_count": 22
        }
      ]
    },
    {
      "cell_type": "code",
      "metadata": {
        "id": "bxMCTSvwkY6q"
      },
      "source": [
        "weightsDifferent = np.array([0.25, 0.5, 0.25])  #Note: the sum of the weights should be equal to 1.\n",
        "annualReturns = returns.mean()*250"
      ],
      "execution_count": null,
      "outputs": []
    },
    {
      "cell_type": "code",
      "metadata": {
        "colab": {
          "base_uri": "https://localhost:8080/"
        },
        "id": "fTU2uP77kaRK",
        "outputId": "bf1213d4-430e-4c21-c21d-91ac4a6f1520"
      },
      "source": [
        "np.dot(annualReturns, weightsDifferent)  # R*WT"
      ],
      "execution_count": null,
      "outputs": [
        {
          "output_type": "execute_result",
          "data": {
            "text/plain": [
              "0.17100049653962598"
            ]
          },
          "metadata": {
            "tags": []
          },
          "execution_count": 24
        }
      ]
    },
    {
      "cell_type": "code",
      "metadata": {
        "id": "09lFky6okdpC"
      },
      "source": [
        "portfolioDifferentWeights = str(round(np.dot(annualReturns, weightsDifferent)*100, 5)) + ' %'"
      ],
      "execution_count": null,
      "outputs": []
    },
    {
      "cell_type": "code",
      "metadata": {
        "colab": {
          "base_uri": "https://localhost:8080/"
        },
        "id": "9i05IIZ2kiLE",
        "outputId": "0f6c985a-2c75-43bf-d7f1-93fbc812f7fe"
      },
      "source": [
        "print(\"The cumulative return for portfolio with different weights is \", portfolioDifferentWeights)\n"
      ],
      "execution_count": null,
      "outputs": [
        {
          "output_type": "stream",
          "text": [
            "The cumulative return for portfolio with different weights is  17.10005 %\n"
          ],
          "name": "stdout"
        }
      ]
    }
  ]
}